{
 "nbformat": 4,
 "nbformat_minor": 0,
 "metadata": {
  "colab": {
   "provenance": []
  },
  "kernelspec": {
   "name": "python3",
   "language": "python",
   "display_name": "Python 3 (ipykernel)"
  },
  "language_info": {
   "name": "python"
  }
 },
 "cells": [
  {
   "cell_type": "markdown",
   "source": [
    "# Задание 1"
   ],
   "metadata": {
    "id": "hv2yInS2_3rF"
   }
  },
  {
   "cell_type": "markdown",
   "source": [
    "В ящике находится *15* качественных и *5*  бракованных деталей. Наудачу извлекаются *2* детали.<br>\n",
    "Найти вероятность того, что:<br>\n",
    "*а) обе детали будут качественными;*<br>\n",
    "*б) одна деталь будет качественной, а одна – бракованной;*<br>\n",
    "*в) обе детали бракованны.*"
   ],
   "metadata": {
    "id": "KVFbldn1_-aK"
   }
  },
  {
   "cell_type": "markdown",
   "source": [
    "Перед решением данной задачи найдем общее число исходов, воспользовавшись формулой сочетаний без повторений:\n"
   ],
   "metadata": {
    "id": "JNuHdE3uAyMA"
   }
  },
  {
   "cell_type": "markdown",
   "source": [
    "![solution4_1_1.png](https://drive.google.com/uc?export=view&id=1xjBpf5rB-rkn8KmkiHiSX0Mmbi9Ha0QE)"
   ],
   "metadata": {
    "id": "K9NZSCO2D7f0"
   }
  },
  {
   "cell_type": "markdown",
   "source": [
    "\n",
    "---\n"
   ],
   "metadata": {
    "id": "XrxLCbgpIaMz"
   }
  },
  {
   "cell_type": "markdown",
   "source": [
    "*а) обе детали будут качественными*<br>\n",
    "Всего качественных деталей - *15*. С помощью формулы сочетаний без повторений, найдем количество способов извлечь *2* качественные детали."
   ],
   "metadata": {
    "id": "h0dZsvHXEV4t"
   }
  },
  {
   "cell_type": "markdown",
   "source": [
    "![solution4_1_2.png](https://drive.google.com/uc?export=view&id=1DotA195EEUUd57UWPY-5e4wL0OEKdc6X)"
   ],
   "metadata": {
    "id": "DWXdzAhbGP2h"
   }
  },
  {
   "cell_type": "markdown",
   "source": [
    "Найдем вероятность, когда обе детали будут качественными, воспользовавшись формулой классического определения вероятности:"
   ],
   "metadata": {
    "id": "0nbtH4cSH-rW"
   }
  },
  {
   "cell_type": "markdown",
   "source": [
    "![solution4_1_2.png](https://drive.google.com/uc?export=view&id=1mT2mFI2oK_KZ2_0LQd5GntK_YewElLj-)"
   ],
   "metadata": {
    "id": "0_URYG7SKLnb"
   }
  },
  {
   "cell_type": "markdown",
   "source": [
    "![solution4_1_2.png](https://drive.google.com/uc?export=view&id=1U-g6ba4ebkkRCoiNE8ZOjlev6zHxqANT)"
   ],
   "metadata": {
    "id": "A3nOhI0mKXai"
   }
  },
  {
   "cell_type": "markdown",
   "source": [
    "**Ответ:** 0.5526"
   ],
   "metadata": {
    "id": "oc7FYrVELWWx"
   }
  },
  {
   "cell_type": "markdown",
   "source": [
    "---"
   ],
   "metadata": {
    "id": "8aPBqWkLPu3R"
   }
  },
  {
   "cell_type": "markdown",
   "source": [
    "*б) одна деталь будет качественной, а одна – бракованной*"
   ],
   "metadata": {
    "id": "Lsj2CGMKP4vr"
   }
  },
  {
   "cell_type": "markdown",
   "source": [
    "Всего качественных деталей - *15*, а не качественных *5*. С помощью формулы сочетаний без повторений, найдем количество способов извлечь *1* качественную и *1* не качественную деталь:"
   ],
   "metadata": {
    "id": "p3DhjqboP96P"
   }
  },
  {
   "cell_type": "markdown",
   "source": [
    "![solution4_1_2.png](https://drive.google.com/uc?export=view&id=1a1-qO6yZq95gZEx1XtRGDtpezD5BajYO)"
   ],
   "metadata": {
    "id": "w0wGmPNLUGUr"
   }
  },
  {
   "cell_type": "markdown",
   "source": [
    "Найдем вероятность, когда *1* деталь будет качественной, а *1* – бракованной, воспользовавшись формулой классического определения вероятности:"
   ],
   "metadata": {
    "id": "_e31Ez3SVN_q"
   }
  },
  {
   "cell_type": "markdown",
   "source": [
    "![solution4_1_2.png](https://drive.google.com/uc?export=view&id=1pq-UvTUz6P2YSuqH_7YKsDDF314NgBd1)"
   ],
   "metadata": {
    "id": "b7mLhXGiVfpC"
   }
  },
  {
   "cell_type": "markdown",
   "source": [
    "**Ответ:** 0.3947"
   ],
   "metadata": {
    "id": "Yj4spIPLWU4a"
   }
  },
  {
   "cell_type": "markdown",
   "source": [
    "---"
   ],
   "metadata": {
    "id": "zvjualikWa9G"
   }
  },
  {
   "cell_type": "markdown",
   "source": [
    "*в) обе детали бракованны*"
   ],
   "metadata": {
    "id": "ry3YY9_3ZKxm"
   }
  },
  {
   "cell_type": "markdown",
   "source": [
    "Всего не качественных деталей - *5*. С помощью формулы сочетаний без повторений, найдем количество способов извлечь *2* бракованные детали:"
   ],
   "metadata": {
    "id": "KbLxbHIVZdoX"
   }
  },
  {
   "cell_type": "markdown",
   "source": [
    "![solution4_1_2.png](https://drive.google.com/uc?export=view&id=1WArYGsXYBU10l8yVcsYwFFneEy4Xq5-h)"
   ],
   "metadata": {
    "id": "Zb8c98fDZwyt"
   }
  },
  {
   "cell_type": "markdown",
   "source": [
    "Найдем вероятность, когда *2* детали будут не качественными, воспользовавшись формулой классического определения вероятности:"
   ],
   "metadata": {
    "id": "pGKzL_2Waiwb"
   }
  },
  {
   "cell_type": "markdown",
   "source": [
    "![solution4_1_2.png](https://drive.google.com/uc?export=view&id=1BnzRY_6p5aRt4EM7lM3xUmc_mj6AkCFS)"
   ],
   "metadata": {
    "id": "467McAecarSY"
   }
  },
  {
   "cell_type": "markdown",
   "source": [],
   "metadata": {
    "id": "qXH1Q1_JbjZ1"
   }
  },
  {
   "cell_type": "markdown",
   "source": [
    "**Ответ:** 0.0526"
   ],
   "metadata": {
    "id": "TrhWcjvIbewT"
   }
  },
  {
   "cell_type": "markdown",
   "source": [
    "---"
   ],
   "metadata": {
    "id": "Gy8D_u96biFK"
   }
  },
  {
   "cell_type": "code",
   "source": [
    "# Метод получения решения к \"Задание 1\"\n",
    "def getAnswerOfTask1():\n",
    "    # Общее число исходов\n",
    "    totalNumber = c(20, 2)\n",
    "    # Количество способов извлечь 2 качественные детали\n",
    "    qualityDetails = c(15, 2)\n",
    "    # Вероятность, достать обе детали качественными\n",
    "    answerA = p(qualityDetails, totalNumber)\n",
    "\n",
    "    # Количество способов извлечь 1 качественную и 1 не качественную деталь\n",
    "    oneQualityAndNonQualityDetail = c(15, 1) * c(5, 1)\n",
    "    # Вероятность достать 1 качественную и 1 не качественную деталь\n",
    "    answerB = p(oneQualityAndNonQualityDetail, totalNumber)\n",
    "\n",
    "    # Количество способов извлечь 2 бракованные детал\n",
    "    twoNonQualityDetails = c(5, 2)\n",
    "    # Вероятность достать 2 бракованные детали\n",
    "    answerC = p(twoNonQualityDetails, totalNumber)\n",
    "\n",
    "    print(f'Ответы к \"Задание 1\":\\n'\n",
    "          f'а) Обе детали будут качественными: {answerA}\\n'\n",
    "          f'б) Одна деталь будет качественной, а одна – бракованной: {answerB}\\n'\n",
    "          f'в) обе детали бракованны: {answerC}')\n",
    "\n",
    "\n",
    "# Метод вычисления факториала\n",
    "def factorial(number):\n",
    "    if number == 1:\n",
    "        return number\n",
    "    else:\n",
    "        return number * factorial(number - 1)\n",
    "\n",
    "\n",
    "# Формула сочетаний без повторений\n",
    "def c(n, m):\n",
    "    numerator = factorial(n)\n",
    "    denominator = factorial(m) * factorial(n - m)\n",
    "    return numerator / denominator\n",
    "\n",
    "\n",
    "# Формула классического определения вероятности\n",
    "def p(m, n):\n",
    "    return m / n\n",
    "\n",
    "\n",
    "getAnswerOfTask1()"
   ],
   "metadata": {
    "colab": {
     "base_uri": "https://localhost:8080/"
    },
    "id": "OC_ExUf-LcC4",
    "outputId": "7c5e3725-a092-4143-e0d2-070b9a022ba9",
    "ExecuteTime": {
     "end_time": "2024-06-02T08:57:53.465903Z",
     "start_time": "2024-06-02T08:57:53.456751Z"
    }
   },
   "execution_count": 1,
   "outputs": [
    {
     "name": "stdout",
     "output_type": "stream",
     "text": [
      "Ответы к \"Задание 1\":\n",
      "а) Обе детали будут качественными: 0.5526315789473685\n",
      "б) Одна деталь будет качественной, а одна – бракованной: 0.39473684210526316\n",
      "в) обе детали бракованны: 0.05263157894736842\n"
     ]
    }
   ]
  },
  {
   "cell_type": "markdown",
   "source": [
    "# Задание 2"
   ],
   "metadata": {
    "id": "3I_nW3-EtL77"
   }
  },
  {
   "cell_type": "markdown",
   "source": [
    "При рентгеновском обследовании вероятность обнаружить заболевание туберкулезом у больного туберкулезом равна *0.9*, вероятность принять здорового человека за больного равна *0.01*. Доля больных туберкулезом по отношению ко всему населению равна *0.001*. Найти вероятность того, что человек здоров, если он был признан больным при обследовании."
   ],
   "metadata": {
    "id": "MIgeBQ-XtPmZ"
   }
  },
  {
   "cell_type": "markdown",
   "source": [
    "**События:**\n",
    "*   A – *обследование показало наличие туберкулеза.*\n",
    "*   В1 – *человек здоров.*\n",
    "*   В2 – *человек болен.*"
   ],
   "metadata": {
    "id": "0BXwiumouEus"
   }
  },
  {
   "cell_type": "markdown",
   "source": [
    "---"
   ],
   "metadata": {
    "id": "ZFvLQhHdRs66"
   }
  },
  {
   "cell_type": "markdown",
   "source": [
    "Из условия задачи, известно:"
   ],
   "metadata": {
    "id": "HI5WD_VbRu9l"
   }
  },
  {
   "cell_type": "markdown",
   "source": [
    "![solution4_1_2.png](https://drive.google.com/uc?export=view&id=1zFv1dwhfapK7t3_c5gpGsgl8W20qFzaD)"
   ],
   "metadata": {
    "id": "YUIC8G_8Rx5f"
   }
  },
  {
   "cell_type": "markdown",
   "source": [
    "Воспользуемся формулой полной вероятности:"
   ],
   "metadata": {
    "id": "Kw6yQySFSDV0"
   }
  },
  {
   "cell_type": "markdown",
   "source": [
    "![solution4_1_2.png](https://drive.google.com/uc?export=view&id=1-SGdC-JaxNuCwOjQEDNu3yuOrZAEaI5k)"
   ],
   "metadata": {
    "id": "md52WOTvSGcr"
   }
  },
  {
   "cell_type": "markdown",
   "source": [
    "Полную вероятность события *A* - \"*положительный результат*\" математически обозначим как *P(O+)*, а так же вычислим ее:"
   ],
   "metadata": {
    "id": "TcADIUlwS6Kv"
   }
  },
  {
   "cell_type": "markdown",
   "source": [
    "![solution4_1_2.png](https://drive.google.com/uc?export=view&id=19mTEvgWNLzM71CoSI8uKCqzju4BfCxmW)"
   ],
   "metadata": {
    "id": "nSgZAohATQ7B"
   }
  },
  {
   "cell_type": "markdown",
   "source": [
    "Необходимо найти вероятность, что человек здоров, при условии диагноза «болен». Воспользуемся формулой вероятности произведения зависимых событий:\n"
   ],
   "metadata": {
    "id": "6krue6IuTx6p"
   }
  },
  {
   "cell_type": "markdown",
   "source": [
    "![solution4_1_2.png](https://drive.google.com/uc?export=view&id=1Tc9lU67N96H4kmrdtXn6pbK8S7psNKBD)"
   ],
   "metadata": {
    "id": "heWw7h5AV3c7"
   }
  },
  {
   "cell_type": "markdown",
   "source": [
    "**Ответ:** *0.917*, что примерно равно *91.7%*"
   ],
   "metadata": {
    "id": "Mn6gFl64WOY4"
   }
  },
  {
   "cell_type": "code",
   "source": [
    "# Метод получения решения к \"Задание 2\"\n",
    "def getAnswerOfTask2():\n",
    "    # Вероятность обнаружить заболевание туберкулезом\n",
    "    # у больного (который уже болеет этим заболеванием).\n",
    "    pIllNow = 0.9\n",
    "    # Вероятность поставить не правильный диагноз \"Болен\"\n",
    "    # здоровому человеку.\n",
    "    pNotCorrectDiagnozToHealthy = 0.01\n",
    "    # Вероятность, что человек болен\n",
    "    pIll = 0.001\n",
    "    # Вероятность, что человек здоров\n",
    "    pHealthy = 1 - pIll\n",
    "\n",
    "    # Полная вероятность события - \"Положительный результат\"\n",
    "    fullProbability \\\n",
    "        = getFullProbability(pHealthy, pNotCorrectDiagnozToHealthy, pIll, pIllNow)\n",
    "\n",
    "    # Вероятность, что человек здоров, при условии диагноза \"болен\"\n",
    "    probabilityWithDiagnozIll = (pHealthy * pNotCorrectDiagnozToHealthy) / fullProbability\n",
    "    print(\n",
    "        f\"Вероятность, что человек здоров, при условии диагноза «болен»: {probabilityWithDiagnozIll:.4f}\\n\")\n",
    "\n",
    "\n",
    "# Формула полной вероятности\n",
    "def getFullProbability(num1, num2, num3, num4):\n",
    "    return num1 * num2 + num3 * num4\n",
    "\n",
    "\n",
    "getAnswerOfTask2()"
   ],
   "metadata": {
    "colab": {
     "base_uri": "https://localhost:8080/"
    },
    "id": "1jvCk8uqcVb5",
    "outputId": "355c6f71-1a38-4826-d4c9-e47591c6a40f",
    "ExecuteTime": {
     "end_time": "2024-06-02T08:57:53.481523Z",
     "start_time": "2024-06-02T08:57:53.477437Z"
    }
   },
   "execution_count": 2,
   "outputs": [
    {
     "name": "stdout",
     "output_type": "stream",
     "text": [
      "Вероятность, что человек здоров, при условии диагноза «болен»: 0.9174\n"
     ]
    }
   ]
  },
  {
   "cell_type": "markdown",
   "source": [
    "# Задание 3"
   ],
   "metadata": {
    "id": "XEVN1LKrm4wG"
   }
  },
  {
   "cell_type": "markdown",
   "source": [
    "Известно, что случайная величина «время до наступления отказа исследуемых изделий» подчиняется логнормальному распределению (lognorm)с параметрами *loc=0, scale=5, s=0.5*."
   ],
   "metadata": {
    "id": "_bde2LsFm9pi"
   }
  },
  {
   "cell_type": "markdown",
   "source": [
    "Требуется построить:\n",
    "*   *графики функции плотности*\n",
    "*   *графики функции распределения*\n",
    "\n",
    "Требуется найти:\n",
    "*   *математическое ожидание*\n",
    "*   *дисперсию*\n",
    "*   *время безотказной работы с вероятностью 0.9 (квантиль уровня 0.1)*"
   ],
   "metadata": {
    "id": "KeEt5ZuRnF-v"
   }
  },
  {
   "cell_type": "code",
   "source": [
    "import numpy as np\n",
    "import matplotlib.pyplot as plt\n",
    "from scipy.stats import lognorm\n",
    "\n",
    "# Параметры логнормального распределения\n",
    "loc = 0\n",
    "scale = 5\n",
    "s = 0.5\n",
    "\n",
    "# Логнормальное распределение\n",
    "distribution = lognorm(loc=loc, scale=scale, s=s)\n",
    "# Генерация точек для графика\n",
    "x = np.linspace(0, 50, 1000)\n",
    "# Функция плотности вероятности (PDF)\n",
    "pdf = distribution.pdf(x)\n",
    "# Функция распределения (CDF)\n",
    "cdf = distribution.cdf(x)\n",
    "\n",
    "# Создание окна для графика\n",
    "plt.figure(figsize=(5, 10))\n",
    "\n",
    "# График №1 - функция плотности\n",
    "plt.subplot(2, 1, 1)\n",
    "plt.plot(x, pdf, label='PDF')\n",
    "plt.title('Функция плотности (PDF)')\n",
    "plt.xlabel('Время до отказа')\n",
    "plt.ylabel('Плотность вероятности')\n",
    "plt.legend()\n",
    "\n",
    "# График №2 - функция распределения\n",
    "plt.subplot(2, 1, 2)\n",
    "plt.plot(x, cdf, label='CDF', color='orange')\n",
    "plt.title('Функция распределения (CDF)')\n",
    "plt.xlabel('Время до отказа')\n",
    "plt.ylabel('Накопленная вероятность')\n",
    "plt.legend()\n",
    "\n",
    "plt.tight_layout()\n",
    "plt.show()\n",
    "\n",
    "# Математическое ожидание\n",
    "mean = distribution.mean()\n",
    "# Дисперсия\n",
    "variance = distribution.var()\n",
    "# Квантиль уровня 0.1 (время безотказной работы с вероятностью 0.9)\n",
    "quantile01 = distribution.ppf(0.1)\n",
    "\n",
    "print(f\"Математическое ожидание: {mean:.4f}\")\n",
    "print(f\"Дисперсия: {variance:.4f}\")\n",
    "print(f\"Время безотказной работы с вероятностью 0.9 (квантиль уровня 0.1): {quantile01:.4f}\")\n"
   ],
   "metadata": {
    "colab": {
     "base_uri": "https://localhost:8080/",
     "height": 1000
    },
    "id": "vUYV9PncI-Z5",
    "outputId": "fa26877e-fea5-439d-b5c7-97817573557a",
    "ExecuteTime": {
     "end_time": "2024-06-02T08:57:54.426330Z",
     "start_time": "2024-06-02T08:57:53.486529Z"
    }
   },
   "execution_count": 3,
   "outputs": [
    {
     "data": {
      "text/plain": "<Figure size 500x1000 with 2 Axes>",
      "image/png": "[encoded data removed]"
     },
     "metadata": {},
     "output_type": "display_data"
    },
    {
     "name": "stdout",
     "output_type": "stream",
     "text": [
      "Математическое ожидание: 5.6657\n",
      "Дисперсия: 9.1174\n",
      "Время безотказной работы с вероятностью 0.9 (квантиль уровня 0.1): 2.6344\n"
     ]
    }
   ]
  }
 ]
}
