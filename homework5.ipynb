{
 "nbformat": 4,
 "nbformat_minor": 0,
 "metadata": {
  "colab": {
   "provenance": []
  },
  "kernelspec": {
   "name": "python3",
   "language": "python",
   "display_name": "Python 3 (ipykernel)"
  },
  "language_info": {
   "name": "python"
  }
 },
 "cells": [
  {
   "cell_type": "markdown",
   "source": [
    "# Задание 1"
   ],
   "metadata": {
    "id": "M7nlYXvnMR2N"
   }
  },
  {
   "cell_type": "markdown",
   "source": [
    "Имеется выборка наблюдений некоторой случайной величины:"
   ],
   "metadata": {
    "id": "tzOosNzzMVOs"
   }
  },
  {
   "cell_type": "markdown",
   "source": [
    "[114.2, 114.0, 132.5, 141.8, 107.0, 126.9, 85.7, 149.6, 145.5, 130.7, 88.5, 111.8, 187.7, 102.2, 117.6, 113.5, 144.4, 104.4, 137.4, 149.8, 111.7, 121.9, 96.5, 138.7, 113.1, 126.0, 129.9, 138.5, 110.8, 129.4, 203.1, 124.1, 121.5, 126.9, 114.0, 128.0, 93.2, 116.6, 113.3, 122.9, 115.5, 78.7, 105.3, 113.2, 135.8, 121.1]"
   ],
   "metadata": {
    "id": "w1AOIP1EMcCH"
   }
  },
  {
   "cell_type": "markdown",
   "source": [
    "Требуется вычислить:\n",
    "*   *среднее значение*\n",
    "*   *медиану*\n",
    "*   *выборочную дисперсию*\n",
    "*   *межквартильный размах*\n",
    "\n"
   ],
   "metadata": {
    "id": "s5X2bMQpM5la"
   }
  },
  {
   "cell_type": "markdown",
   "source": [
    "На основе анализа полученных значений и диаграммы *box-plot* сделать выводы о наличии аномальных наблюдений (выбросов)."
   ],
   "metadata": {
    "id": "tAft5CWXNUyx"
   }
  },
  {
   "cell_type": "markdown",
   "source": [
    "После отбраковки аномальных наблюдений (исключения их из выборки) заново вычислить среднее значение и медиану."
   ],
   "metadata": {
    "id": "wL7TOMVhNjB9"
   }
  },
  {
   "cell_type": "code",
   "source": [
    "import numpy as np\n",
    "import matplotlib.pyplot as plt\n",
    "\n",
    "# Выборка наблюдений некоторой случайной величины\n",
    "data = [114.2, 114.0, 132.5, 141.8, 107.0, 126.9, 85.7, 149.6, 145.5, 130.7,\n",
    "        88.5, 111.8, 187.7, 102.2, 117.6, 113.5, 144.4, 104.4, 137.4, 149.8,\n",
    "        111.7, 121.9, 96.5, 138.7, 113.1, 126.0, 129.9, 138.5, 110.8, 129.4,\n",
    "        203.1, 124.1, 121.5, 126.9, 114.0, 128.0, 93.2, 116.6, 113.3, 122.9,\n",
    "        115.5, 78.7, 105.3, 113.2, 135.8, 121.1]\n",
    "data = np.array(data)\n",
    "\n",
    "# Среднее значение\n",
    "mean = np.mean(data)\n",
    "# Медиана\n",
    "median = np.median(data)\n",
    "# Выборочная дисперсия\n",
    "variance = np.var(data, ddof=1)\n",
    "# Межквартильный диапазон\n",
    "q3, q1 = np.percentile(data, [75, 25])\n",
    "iqr = q3 - q1\n",
    "\n",
    "print(f\"Среднее значение: {mean:.2f}\")\n",
    "print(f\"Медиана: {median:.2f}\")\n",
    "print(f\"Выборочная дисперсия: {variance:.2f}\")\n",
    "print(f\"Межквартильный размах (IQR): {iqr:.2f}\")\n",
    "\n",
    "# Построение boxplot\n",
    "plt.figure(figsize=(10, 6))\n",
    "plt.boxplot(data)\n",
    "plt.title('Диаграмма Box-Plot')\n",
    "plt.ylabel('Значения')\n",
    "plt.show()\n",
    "\n",
    "# нижняя граница выбросов\n",
    "lower = q1 - 1.5 * iqr\n",
    "# верхняя граница выбросов\n",
    "upper = q3 + 1.5 * iqr\n",
    "# Исключение выбросов из данных\n",
    "processedData = data[(data >= lower) & (data <= upper)]\n",
    "\n",
    "# Cреднее значение (после исключения выбросов)\n",
    "processedDataMean = np.mean(processedData)\n",
    "# Медиана (после исключения выбросов)\n",
    "processedDataMedian = np.median(processedData)\n",
    "\n",
    "print(f\"\\nСреднее значение после удаления выбросов: {processedDataMean:.2f}\")\n",
    "print(f\"Медиана после удаления выбросов: {processedDataMedian:.2f}\")\n"
   ],
   "metadata": {
    "colab": {
     "base_uri": "https://localhost:8080/",
     "height": 667
    },
    "id": "zMCicRxBVmr9",
    "outputId": "f131d302-8238-4095-a6a0-016d0a7310a1",
    "ExecuteTime": {
     "end_time": "2024-06-03T21:52:43.300198Z",
     "start_time": "2024-06-03T21:52:42.789759Z"
    }
   },
   "execution_count": 1,
   "outputs": [
    {
     "name": "stdout",
     "output_type": "stream",
     "text": [
      "Среднее значение: 122.93\n",
      "Медиана: 121.30\n",
      "Выборочная дисперсия: 514.28\n",
      "Межквартильный размах (IQR): 19.93\n"
     ]
    },
    {
     "data": {
      "text/plain": "<Figure size 1000x600 with 1 Axes>",
      "image/png": "[encoded data removed]"
     },
     "metadata": {},
     "output_type": "display_data"
    },
    {
     "name": "stdout",
     "output_type": "stream",
     "text": [
      "\n",
      "Среднее значение после удаления выбросов: 120.59\n",
      "Медиана после удаления выбросов: 121.10\n"
     ]
    }
   ]
  },
  {
   "cell_type": "markdown",
   "source": [
    "# Задание 2"
   ],
   "metadata": {
    "id": "QDfLIlWzVukr"
   }
  },
  {
   "cell_type": "markdown",
   "source": [
    "Из *300* абитуриентов, поступивших в институт, *97* человек имели пятерку в школе и *48* получили пятерку на вступительных экзаменах по тому же предмету,причем только *18* человек имели пятерку и вшколе, и на экзамене. С уровнем значимости *0.05* проверить гипотезу о независимости оценок *5* в школе и на вступительном экзамене."
   ],
   "metadata": {
    "id": "kZ_RLzljVxns"
   }
  },
  {
   "cell_type": "markdown",
   "source": [
    "**Решение**\n",
    "---\n",
    "\n",
    "Из условия задачи известно следующее:<br>\n",
    "*   Всего абитуриентов поступивших в институт: *300*\n",
    "*   Студенты имеющие пятерку в школе: *97*\n",
    "*   Студенты получившие пятерку на экзамене: *48*\n",
    "*   Студенты получившие пятерку в школе и на экзамене: *18*\n",
    "*   Уровень значимости: *0.05*"
   ],
   "metadata": {
    "id": "EfLh0WbTB65k"
   }
  },
  {
   "cell_type": "markdown",
   "source": [
    "Из имеющихся данных вычислим дополнительные значения:<br>\n",
    "*   Студенты получившие пятерку только в школе: *79*\n",
    "*   Студенты получившие пятерку только на экзамене: *30*\n",
    "*   #Студенты не получившие пятерку на экзамене и в школе: *191*\n",
    "\n"
   ],
   "metadata": {
    "id": "2OjmooDeDBdG"
   }
  },
  {
   "cell_type": "markdown",
   "source": [
    "Из полученных результатов построим таблицу сопряженности (она же - *таблица контингентности*)"
   ],
   "metadata": {
    "id": "g1x_fmi3jbmq"
   }
  },
  {
   "cell_type": "markdown",
   "source": [
    "![solution4_1_2.png](https://drive.google.com/uc?export=view&id=11tdfBdWI0vODHL2HSvaYYyTJWmgVjvfq)"
   ],
   "metadata": {
    "id": "JYwyRk8OuDap"
   }
  },
  {
   "cell_type": "markdown",
   "source": [
    "Сделаем следующие выводы (исходя из таблицы):<br>\n",
    "*   Из 97 отличников в школе, на экзамене получили пятерку 18 человек.\n",
    "*   Из 97 отличников в школе, на экзамене не получили пятерку 79 человек.\n",
    "*   Из 203 не отличников в школе, на экзамене получили пятерку 30 человек.\n",
    "*   Из 203 не отличников в школе, на экзамене не получили пятерку 173 человек.\n",
    "*   Всего получили пятерку на экзамене 48 человек.\n",
    "*   Всего не получили пятерку на экзамене 252 человек.\n",
    "\n"
   ],
   "metadata": {
    "id": "0sWgOghuubtI"
   }
  },
  {
   "cell_type": "markdown",
   "source": [
    "Вычислим значения статистики *хи-квадрат*, *p - значения*, *степень свободы*:<br>\n",
    "*   Значение статистики хи-квадрат: *0.44*\n",
    "*   Значение p-value: *0.5050*\n",
    "*   Значение степени свободы: *1*"
   ],
   "metadata": {
    "id": "G0TvEJEZumwh"
   }
  },
  {
   "cell_type": "markdown",
   "source": [
    "**Сравнив с уровнем значимости, можно сделать вывод, что оценки не являются зависимыми.**"
   ],
   "metadata": {
    "id": "R85vDIVUEGY8"
   }
  },
  {
   "cell_type": "code",
   "source": [
    "import numpy as np\n",
    "from scipy.stats import chi2_contingency\n",
    "\n",
    "# Всего абитуриентов поступивших в институт\n",
    "totalSnts = 300\n",
    "# Студенты имеющие пятерку в школе\n",
    "sntsHave5Sc = 97\n",
    "# Студенты получившие пятерку на экзамене\n",
    "sntsHave5Ex = 48\n",
    "# Студенты получившие пятерку в школе и на экзамене\n",
    "sntsHave5ExAndSc = 18\n",
    "\n",
    "# Студенты получившие пятерку только в школе\n",
    "sntsHave5OfOnlySchool = sntsHave5Sc - sntsHave5ExAndSc\n",
    "# Студенты получившие пятерку только на экзамене\n",
    "sntsHave5OfOnlyEx = sntsHave5Ex - sntsHave5ExAndSc\n",
    "# Студенты не получившие пятерку на экзамене и в школе\n",
    "sntsNotHave5ExAndSc = totalSnts - (sntsHave5Sc + sntsHave5OfOnlyEx)\n",
    "\n",
    "# Построение таблицы сопряженности\n",
    "contingencyTable = np.array([\n",
    "    [sntsHave5ExAndSc, sntsHave5OfOnlyEx],\n",
    "    [sntsHave5OfOnlySchool, sntsNotHave5ExAndSc]\n",
    "])\n",
    "\n",
    "print(f\"Таблица сопряженности:\\n{contingencyTable}\\n\")\n",
    "\n",
    "# Вычисление значения статистики хи-квадрат, p-значения, степень свободы и ожидаемой частоты\n",
    "statistic, pValue, dof, expectedFreq = chi2_contingency(contingencyTable)\n",
    "\n",
    "print(f\"Значение статистики хи-квадрат: {statistic:.2f}\")\n",
    "print(f\"Значение p-value: {pValue:.4f}\")\n",
    "print(f\"Значение степени свободы: {dof}\")\n",
    "print(f\"Значение ожидаемой частоты:\\n {expectedFreq}\")\n",
    "\n",
    "# Уровень значимости (альфа-уровень)\n",
    "significanceLevel = 0.05\n",
    "\n",
    "if pValue < significanceLevel:\n",
    "    print(\"\\nОценки являются зависимыми.\")\n",
    "else:\n",
    "    print(\"\\nОценки не являются зависимыми.\")\n"
   ],
   "metadata": {
    "colab": {
     "base_uri": "https://localhost:8080/"
    },
    "id": "hZv-nMUIFNGP",
    "outputId": "1b64c5f2-5df1-4048-cd0e-c4dcd565c1b9",
    "ExecuteTime": {
     "end_time": "2024-06-03T21:52:43.585933Z",
     "start_time": "2024-06-03T21:52:43.301381Z"
    }
   },
   "execution_count": 2,
   "outputs": [
    {
     "name": "stdout",
     "output_type": "stream",
     "text": [
      "Таблица сопряженности:\n",
      "[[ 18  30]\n",
      " [ 79 173]]\n",
      "\n",
      "Значение статистики хи-квадрат: 0.44\n",
      "Значение p-value: 0.5050\n",
      "Значение степени свободы: 1\n",
      "Значение ожидаемой частоты:\n",
      " [[ 15.52  32.48]\n",
      " [ 81.48 170.52]]\n",
      "\n",
      "Оценки не являются зависимыми.\n"
     ]
    }
   ]
  },
  {
   "cell_type": "markdown",
   "source": [
    "# Задание 3"
   ],
   "metadata": {
    "id": "x4pf29niFkEO"
   }
  },
  {
   "cell_type": "markdown",
   "source": [
    "Мука расфасовывается в пакетытак, чтобы вес одного пакета был 10кг. В результате измерения веса 20 случайно выбранных пакетов получены измерения:\n",
    "[9.473, 10.016, 9.703, 10.306, 10.102, 10.002, 9.655, 10.077, 10.084, 9.775, 10.225, 9.861, 9.887, 9.964, 9.974, 10.132, 10.182, 9.788, 10.225, 9.757]"
   ],
   "metadata": {
    "id": "pHQBJkHNFoD_"
   }
  },
  {
   "cell_type": "markdown",
   "source": [
    "\n",
    "\n",
    "1.   Вычислить оценки максимального правдоподобия параметров нормального распределения\n",
    "2.   Проверить гипотезу о нормальном распределении измерений\n",
    "3.   Изобразить на одной диаграмме график эмпирической функции распределения по выборке и график функции нормального распределения с полученными оценками параметров."
   ],
   "metadata": {
    "id": "sBuQneKpkloI"
   }
  },
  {
   "cell_type": "code",
   "source": [
    "import numpy as np\n",
    "import matplotlib.pyplot as plt\n",
    "from scipy.stats import normaltest\n",
    "from scipy.stats import cumfreq\n",
    "from scipy.stats import norm\n",
    "\n",
    "# 20 случайно выбранных пакетов (кг)\n",
    "data = [9.473, 10.016, 9.703, 10.306, 10.102, 10.002, 9.655, 10.077,\n",
    "        10.084, 9.775, 10.225, 9.861, 9.887, 9.964, 9.974, 10.132,\n",
    "        10.182, 9.788, 10.225, 9.757]\n",
    "\n",
    "# Размерность\n",
    "sizeOfData = np.size(data)\n",
    "# Максимальное значение\n",
    "maxValue = np.max(data)\n",
    "# Минимальное значение\n",
    "minValue = np.min(data)\n",
    "# Среднее значение\n",
    "mleMean = np.mean(data)\n",
    "# Стандартное отклонение\n",
    "mleStd = np.std(data)\n",
    "# Уровень значимости (альфа-уровень)\n",
    "significanceLevel = 0.05\n",
    "\n",
    "print(f\"Размерность данных: {sizeOfData}\")\n",
    "print(f\"Максимальное значение: {maxValue}\")\n",
    "print(f\"Минимальное значение: {minValue}\")\n",
    "print(f\"Среднее значение оценки максимального правдоподобия: {mleMean:.4f}\")\n",
    "print(f\"Стандартное отклонение оценки максимального правдоподобия: {mleStd:.4f}\")\n",
    "\n",
    "# Отличается ли заданное значение выборки от нормального распределения набора данных.\n",
    "statistic, pValue = normaltest(data)\n",
    "\n",
    "if pValue < significanceLevel:\n",
    "    print(\"Данные не распределены нормально\")\n",
    "else:\n",
    "    print(\"Данные распределены нормально (вероятнее всего)\")\n",
    "\n",
    "# Вычисление гистограммы кумулятивной частоты\n",
    "cumulativeFreq = cumfreq(data, numbins=25)\n",
    "# Вычисление значений для оси x\n",
    "x = cumulativeFreq.lowerlimit + np.linspace(0, cumulativeFreq.binsize * cumulativeFreq.cumcount.size,\n",
    "                                            cumulativeFreq.cumcount.size)\n",
    "\n",
    "# Генерация значения для оси x нормального распределения\n",
    "xNormal = np.linspace(minValue, maxValue, 1000)\n",
    "# Функция нормального распределения\n",
    "cdfNormal = norm.cdf(xNormal, loc=mleMean, scale=mleStd)\n",
    "\n",
    "plt.figure(figsize=(10, 6))\n",
    "plt.plot(x, cumulativeFreq.cumcount / sizeOfData, label='Эмпирическое распределение')\n",
    "plt.plot(xNormal, cdfNormal, label='Нормальное распределение', linestyle='--')\n",
    "plt.xlabel('Вес пакета (кг)')\n",
    "plt.ylabel('Функция распределения')\n",
    "plt.title('Эмпирическая и теоретическая функция распределения')\n",
    "plt.grid(True)\n",
    "plt.show()"
   ],
   "metadata": {
    "colab": {
     "base_uri": "https://localhost:8080/",
     "height": 668
    },
    "id": "TX2c8eR8CINf",
    "outputId": "4552c465-77e7-4125-e9bd-2cccc9368ffe",
    "ExecuteTime": {
     "end_time": "2024-06-03T21:52:43.668856Z",
     "start_time": "2024-06-03T21:52:43.587052Z"
    }
   },
   "execution_count": 3,
   "outputs": [
    {
     "name": "stdout",
     "output_type": "stream",
     "text": [
      "Размерность данных: 20\n",
      "Максимальное значение: 10.306\n",
      "Минимальное значение: 9.473\n",
      "Среднее значение оценки максимального правдоподобия: 9.9594\n",
      "Стандартное отклонение оценки максимального правдоподобия: 0.2133\n",
      "Данные распределены нормально (вероятнее всего)\n"
     ]
    },
    {
     "data": {
      "text/plain": "<Figure size 1000x600 with 1 Axes>",
      "image/png": "[encoded data removed]"
     },
     "metadata": {},
     "output_type": "display_data"
    }
   ]
  }
 ]
}
