{
 "nbformat": 4,
 "nbformat_minor": 0,
 "metadata": {
  "colab": {
   "provenance": []
  },
  "kernelspec": {
   "name": "python3",
   "language": "python",
   "display_name": "Python 3 (ipykernel)"
  },
  "language_info": {
   "name": "python"
  }
 },
 "cells": [
  {
   "cell_type": "markdown",
   "source": [
    "# Задание 1"
   ],
   "metadata": {
    "id": "0a2fEtleRiNG"
   }
  },
  {
   "cell_type": "markdown",
   "source": [
    "Сколькими способами можно расставить на первой горизонтали шахматной доски комплект белых фигур (король, ферзь, два слона, два коня и две ладьи)?\n",
    "\n"
   ],
   "metadata": {
    "id": "MbU9HkfgRgJn"
   }
  },
  {
   "cell_type": "markdown",
   "source": [
    "*В рамках данной задачи имеется:*\n",
    "\n",
    "---\n",
    "*   1 фигура *Король*\n",
    "*   1 фигура *Ферзь*\n",
    "*   2 фигуры *Слон*\n",
    "*   2 фигуры *Конь*\n",
    "*   2 фигуры *Ладья*\n",
    "\n",
    "Общее количество фигур: 8<br>\n"
   ],
   "metadata": {
    "id": "5_FlLJJXV8iX"
   }
  },
  {
   "cell_type": "markdown",
   "source": [
    "**Решение**<br>\n",
    "Для случая, когда среди выбираемых *n* элементов есть одинаковые (слон, конь, ладья! Воспользуемся формулой перестановки с повторением.<br>\n"
   ],
   "metadata": {
    "id": "A6uhhA9mUwH7"
   }
  },
  {
   "cell_type": "markdown",
   "source": [
    "![solution1_1.png](https://drive.google.com/uc?export=view&id=1cTfEe1_e4rDEdibabJEijsi4sz6osAyo)"
   ],
   "metadata": {
    "id": "ePabsXCvYXxs"
   }
  },
  {
   "cell_type": "markdown",
   "source": [
    "![solution1_2.png](https://drive.google.com/uc?export=view&id=18tqifWIQVUz-2jq2L_ytvxaOpTZRw8Qe)"
   ],
   "metadata": {
    "id": "L1HLU5p6Y70_"
   }
  },
  {
   "cell_type": "code",
   "source": [
    "import math\n",
    "\n",
    "\n",
    "# Решение \"Задание №1\"\n",
    "def getAnswerSolution1():\n",
    "    figure = [1, 1, 2, 2, 2]\n",
    "    # Количество фигур\n",
    "    n = sum(figure)\n",
    "    # Числитель\n",
    "    numerator = math.factorial(n)\n",
    "    # Знаменатель\n",
    "    denominator = 1\n",
    "    for i in range(0, len(figure)):\n",
    "        denominator *= math.factorial(figure[i])\n",
    "    return int(numerator / denominator)\n",
    "\n",
    "\n",
    "print(getAnswerSolution1())"
   ],
   "metadata": {
    "colab": {
     "base_uri": "https://localhost:8080/"
    },
    "id": "wiaz9_TPc2hr",
    "outputId": "610552bd-8911-4cd9-d9fd-240ed8d6eb63",
    "ExecuteTime": {
     "end_time": "2024-05-23T19:38:33.726479Z",
     "start_time": "2024-05-23T19:38:33.721507Z"
    }
   },
   "execution_count": 7,
   "outputs": [
    {
     "name": "stdout",
     "output_type": "stream",
     "text": [
      "5040\n"
     ]
    }
   ]
  },
  {
   "cell_type": "markdown",
   "source": [
    "# Задание 2"
   ],
   "metadata": {
    "id": "uC04HeO-dM7r"
   }
  },
  {
   "cell_type": "markdown",
   "source": [
    "Сколькими способами можно сделать трехцветный флаг с горизонтальными полосам и одинаковой ширины, если имеется материал из 6 различных цветов?"
   ],
   "metadata": {
    "id": "AAUnrBdIsmV8"
   }
  },
  {
   "cell_type": "markdown",
   "source": [
    "**Решение**<br>\n",
    "В данном случае, у нас есть трехцветный флаг. Во флаге важен порядок цветов. Если порядок важен, то это количество размещени по 3 из 6. Воспользуемся формулой размещения без повторений."
   ],
   "metadata": {
    "id": "HqiYvqjsw6Z9"
   }
  },
  {
   "cell_type": "markdown",
   "source": [
    "![solution2_1.png](https://drive.google.com/uc?export=view&id=1pAOtM1eYJlmqEPlmYPmq2bcFIowNtp1l)"
   ],
   "metadata": {
    "id": "BYFUL46NyX49"
   }
  },
  {
   "cell_type": "markdown",
   "source": [
    "![solution2_1.png](https://drive.google.com/uc?export=view&id=1DSz12aYUcCBN_SgcqgwWNn0X7E1v4dch)"
   ],
   "metadata": {
    "id": "zWgPgUHtzEbJ"
   }
  },
  {
   "cell_type": "code",
   "source": [
    "import math\n",
    "\n",
    "\n",
    "# Решение \"Задание №2\"\n",
    "def getAnswerSolution2():\n",
    "    # Шесть различных цветов\n",
    "    n = 6\n",
    "    # Три цвета в флаге\n",
    "    k = 3\n",
    "    # Числитель\n",
    "    numerator = math.factorial(n)\n",
    "    denominator = math.factorial(n - k)\n",
    "    return int(numerator / denominator)\n",
    "\n",
    "\n",
    "print(getAnswerSolution2())"
   ],
   "metadata": {
    "colab": {
     "base_uri": "https://localhost:8080/"
    },
    "id": "trGjZ2mgza_2",
    "outputId": "4aed8726-4cbb-41b9-c0a6-d4a4ed445d78",
    "ExecuteTime": {
     "end_time": "2024-05-23T19:38:33.752822Z",
     "start_time": "2024-05-23T19:38:33.748605Z"
    }
   },
   "execution_count": 8,
   "outputs": [
    {
     "name": "stdout",
     "output_type": "stream",
     "text": [
      "120\n"
     ]
    }
   ]
  },
  {
   "cell_type": "markdown",
   "source": [
    "# Задание 3"
   ],
   "metadata": {
    "id": "Zd_IXOa10XgG"
   }
  },
  {
   "cell_type": "markdown",
   "source": [
    "Группу из 20 студентов нужно разделить на 3 бригады,причем в первую бригаду должны входить 3 человека, во вторую — 5 и в третью — 12. Сколькими способами это можно сделать?"
   ],
   "metadata": {
    "id": "1q46Nbh30eUQ"
   }
  },
  {
   "cell_type": "markdown",
   "source": [
    "**Решение**<br>\n",
    "Формируются три бригады:\n",
    "\n",
    "*   Первую бригаду формируют из 3 студентов, из 20\n",
    "*   Вторую бригаду формируют из 5 студентов, из 17 (оставшиеся)\n",
    "*   Третью бригаду формируюи из оставшихся студентов (12)\n",
    "\n",
    "Воспользуемся формулой сочетаний без повторений, для каждой из бригад. Общую выборку из трех бригад получим путем умножения.\n"
   ],
   "metadata": {
    "id": "jlMC5gpI3ypg"
   }
  },
  {
   "cell_type": "markdown",
   "source": [
    "![solution3_1.png](https://drive.google.com/uc?export=view&id=1hEEbaFP1ZCo6eFj-PthKBn1Q_0-vaPtY)"
   ],
   "metadata": {
    "id": "wvkzfBDa454I"
   }
  },
  {
   "cell_type": "markdown",
   "source": [
    "![solution3_1.png](https://drive.google.com/uc?export=view&id=1LBtvwJ34mLH1BfpW46J89vHlQ6E3wCzc)"
   ],
   "metadata": {
    "id": "ENUMDOWE5JFm"
   }
  },
  {
   "cell_type": "markdown",
   "source": [
    "![solution3_1.png](https://drive.google.com/uc?export=view&id=1J27gXsUBGiPbPS6fk9RCEiwGT8PqZ_06)"
   ],
   "metadata": {
    "id": "Lr8hZ9hZ5KgI"
   }
  },
  {
   "cell_type": "markdown",
   "source": [
    "![solution3_1.png](https://drive.google.com/uc?export=view&id=17vMTaQQyQ1-p8yiwj6Aj8cx57ZYgdSc-)"
   ],
   "metadata": {
    "id": "WydxnkFo5nIQ"
   }
  },
  {
   "cell_type": "code",
   "source": [
    "import math\n",
    "\n",
    "\n",
    "# Решение \"Задание №3\"\n",
    "def getAnswerSolution3():\n",
    "    # Группа студентов\n",
    "    n = 20\n",
    "    # Количество студентов в первой бригаде\n",
    "    m = 3\n",
    "\n",
    "    # Первая бригада\n",
    "    firstTeam = getTeam(n, m)\n",
    "\n",
    "    # Вторая бригада\n",
    "    n -= m\n",
    "    m = 5\n",
    "    secondTeam = getTeam(n, m)\n",
    "\n",
    "    # Третья бригада\n",
    "    n -= m\n",
    "    m = 12\n",
    "    thirdTeam = getTeam(n, m)\n",
    "\n",
    "    return firstTeam * secondTeam * thirdTeam\n",
    "\n",
    "\n",
    "# Формула сочетаний без повторений (для задания №3)\n",
    "def getTeam(n, m):\n",
    "    numerator = math.factorial(n)\n",
    "    denominator = math.factorial(m) * math.factorial(n - m)\n",
    "    return int(numerator / denominator)\n",
    "\n",
    "\n",
    "print(getAnswerSolution3())"
   ],
   "metadata": {
    "colab": {
     "base_uri": "https://localhost:8080/"
    },
    "id": "rUklqWuM8F_7",
    "outputId": "5318c6a0-d5c1-4d44-9ebf-e3aa3b1409f6",
    "ExecuteTime": {
     "end_time": "2024-05-23T19:38:33.760944Z",
     "start_time": "2024-05-23T19:38:33.753828Z"
    }
   },
   "execution_count": 9,
   "outputs": [
    {
     "name": "stdout",
     "output_type": "stream",
     "text": [
      "7054320\n"
     ]
    }
   ]
  }
 ]
}
