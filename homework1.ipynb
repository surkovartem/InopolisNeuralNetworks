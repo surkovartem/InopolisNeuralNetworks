{
 "nbformat": 4,
 "nbformat_minor": 0,
 "metadata": {
  "colab": {
   "provenance": [],
   "toc_visible": true
  },
  "kernelspec": {
   "name": "python3",
   "language": "python",
   "display_name": "Python 3 (ipykernel)"
  },
  "language_info": {
   "name": "python"
  }
 },
 "cells": [
  {
   "cell_type": "markdown",
   "source": [
    "# Задание 1"
   ],
   "metadata": {
    "id": "GiYQGjAL0zsp"
   }
  },
  {
   "cell_type": "markdown",
   "source": [
    "Поработаем с функцией print.\n",
    "\n",
    "Напишите программу, которая считывает:\n",
    "* строку-разделитель;\n",
    "* три строки;\n",
    "* символ завершения строки (end);\n",
    "* одну строку\n",
    "\n",
    "и выводит указанные значения через разделитель с учетом символа завершения.\n",
    "\n",
    "**Ход решения:**\n",
    "\n",
    "* Считываем строку-разделитель через input()\n",
    "\n",
    "* Считываем три строки через input()\n",
    "\n",
    "* Считываем символ завершения строки (end)\n",
    "\n",
    "* Считываем ещё одну строку\n",
    "\n",
    "* Выводим через print() указанные значения через разделитель sep с учетом символа завершения end.\n",
    "\n",
    "**Вход программы:**\n",
    "\n",
    "Введите строку-разделитель: Масло\n",
    "\n",
    "Введите первую строку: Молоко\n",
    "\n",
    "Введите вторую строку: Сахар\n",
    "\n",
    "Введите третью строку: Просо\n",
    "\n",
    "Введите символ завершения строки (end): ***\n",
    "\n",
    "Введите одну строку: Хлеб\n",
    "\n",
    "**Выход программы:**\n",
    "\n",
    "МолокоМаслоСахарМаслоПросоМаслоХлеб***\n",
    "\n",
    "**Вход программы:**  \n",
    "\n",
    "Введите строку-разделитель: ***\n",
    "\n",
    "Введите первую строку: Я\n",
    "\n",
    "Введите вторую строку: изучаю\n",
    "\n",
    "Введите третью строку: data science\n",
    "\n",
    "Введите символ завершения строки (end): 2024\n",
    "\n",
    "Введите одну строку: внимательно\n",
    "\n",
    "**Выход программы:**\n",
    "\n",
    "Я\\*\\*\\*изучаю\\*\\*\\*data science\\*\\*\\*внимательно2024\n"
   ],
   "metadata": {
    "id": "Gwu6TnEI5NEL"
   }
  },
  {
   "cell_type": "code",
   "source": [
    "# Получение результата (строки, разделитель, завершающая строка)\n",
    "def getListOfString(firstString, secondString, thirdString, oneMoreString, sep, endStr):\n",
    "    arrayStr = list()\n",
    "    arrayStr.append(firstString)\n",
    "    arrayStr.append(secondString)\n",
    "    arrayStr.append(thirdString)\n",
    "    arrayStr.append(oneMoreString)\n",
    "    return sep.join(arrayStr) + endStr\n",
    "\n",
    "\n",
    "separator = input(\"Введите строку-разделитель: \")\n",
    "firstString = input(\"Введите первую строку: \")\n",
    "secondString = input(\"Введите вторую строку: \")\n",
    "thirdString = input(\"Введите третью строку: \")\n",
    "endOfString = input(\"Введите символ завершения строки (end): \")\n",
    "oneMoreString = input(\"Введите одну строку: \")\n",
    "\n",
    "output = getListOfString(firstString, secondString, thirdString, oneMoreString, separator, endOfString)\n",
    "print(output)"
   ],
   "metadata": {
    "id": "MtdlsUmS01oi",
    "colab": {
     "base_uri": "https://localhost:8080/"
    },
    "executionInfo": {
     "status": "ok",
     "timestamp": 1716039831978,
     "user_tz": -300,
     "elapsed": 28636,
     "user": {
      "displayName": "Артём Сурков",
      "userId": "09223327818636117606"
     }
    },
    "outputId": "99275ab4-bf46-4bdd-ca28-3a3ba4df7027",
    "ExecuteTime": {
     "end_time": "2024-05-22T20:17:17.819989Z",
     "start_time": "2024-05-22T20:16:52.514167Z"
    }
   },
   "execution_count": 5,
   "outputs": [
    {
     "name": "stdout",
     "output_type": "stream",
     "text": [
      "Привет_здесь_что-то_интересное!\n"
     ]
    }
   ]
  },
  {
   "cell_type": "markdown",
   "source": [
    "# Задание 2"
   ],
   "metadata": {
    "id": "Wt9wpCX-n9VV"
   }
  },
  {
   "cell_type": "markdown",
   "source": [
    "Пользователь вводит число. Напишите программу, которая выводит сообщение, является это число положительным, отрицательным или нулем.\n",
    "* Запросить у пользователя число типа int через функцию input()\n",
    "* Для проверки использовать условный оператор if…elif…else\n",
    "* Для вывода использовать print()\n",
    "\n",
    "**Вход программы:**\n",
    "\n",
    "Введите число: 8\n",
    "\n",
    "**Выход программы:**\n",
    "\n",
    "Число положительное: 8\n",
    "\n",
    "\n",
    "**Вход программы:**\n",
    "\n",
    "Введите число: 0\n",
    "\n",
    "**Выход программы:**\n",
    "\n",
    "Число равно нулю: 0.\n",
    "\n",
    "\n",
    "**Вход программы:**\n",
    "\n",
    "Введите число: -1\n",
    "\n",
    "**Выход программы:**\n",
    "\n",
    "Число отрицательное: -1\n"
   ],
   "metadata": {
    "id": "s_m1v4wRoDr2"
   }
  },
  {
   "cell_type": "code",
   "execution_count": 6,
   "metadata": {
    "id": "-7DW4lSMnlX_",
    "colab": {
     "base_uri": "https://localhost:8080/"
    },
    "executionInfo": {
     "status": "ok",
     "timestamp": 1716039849327,
     "user_tz": -300,
     "elapsed": 2179,
     "user": {
      "displayName": "Артём Сурков",
      "userId": "09223327818636117606"
     }
    },
    "outputId": "6966f18c-acec-4652-937b-67f3c2a5637c",
    "ExecuteTime": {
     "end_time": "2024-05-22T20:17:25.633371Z",
     "start_time": "2024-05-22T20:17:17.821996Z"
    }
   },
   "outputs": [
    {
     "name": "stdout",
     "output_type": "stream",
     "text": [
      "Число положительное: 5\n"
     ]
    }
   ],
   "source": [
    "# Получение характеристики числа\n",
    "def getCharacteristicsOfNumber(num):\n",
    "    if num > 0:\n",
    "        return f'Число положительное: {num}'\n",
    "    elif num == 0:\n",
    "        return f'Число равно нулю: {num}'\n",
    "    else:\n",
    "        return f'Число отрицательное: {num}'\n",
    "\n",
    "\n",
    "num = int(input(\"Введите число: \"))\n",
    "print(getCharacteristicsOfNumber(num))"
   ]
  },
  {
   "cell_type": "markdown",
   "source": [
    "# Задание 3"
   ],
   "metadata": {
    "id": "7wRmVqbwocT0"
   }
  },
  {
   "cell_type": "markdown",
   "source": [
    "Пользователь вводит число от 1 до 9. Вывести таблицу умножения на это число.\n",
    "\n",
    "**Ход решения:**\n",
    "\n",
    "* Запросить у пользователя число от 1 до 9 (включительно).\n",
    "* Проверить значение. Для проверки использовать условный оператор if…elif…else.\n",
    "* Если число не входит в диапазон (меньше 1 или больше 9), то вывести сообщение “Число не входит в интервал от 1 до 9.”\n",
    "* Использовать цикл for и функцию range от 1 до 10\n",
    "* Для вывода таблицы умножения использовать форматирование вывода f-строками. Пример:\n",
    "\n",
    "```python\n",
    "print(f\"{number} * {i} = {number * i}\")\n",
    "```\n",
    "\n",
    "**Вход программы:**\n",
    "\n",
    "Введите число от 1 до 9: 5\n",
    "\n",
    "**Выход программы:**\n",
    "\n",
    "5 * 1 = 5\n",
    "\n",
    "5 * 2 = 10\n",
    "\n",
    "5 * 3 = 15\n",
    "\n",
    "5 * 4 = 20\n",
    "\n",
    "5 * 5 = 25\n",
    "\n",
    "5 * 6 = 30\n",
    "\n",
    "5 * 7 = 35\n",
    "\n",
    "5 * 8 = 40\n",
    "\n",
    "5 * 9 = 45\n",
    "\n",
    "**Вход программы:**\n",
    "\n",
    "Введите число от 1 до 9: 11\n",
    "\n",
    "**Выход программы:**\n",
    "\n",
    "Число не входит в интервал от 1 до 9.\n"
   ],
   "metadata": {
    "id": "isWnEsQkocT8"
   }
  },
  {
   "cell_type": "code",
   "execution_count": 7,
   "metadata": {
    "id": "_qnBOBCZocT8",
    "colab": {
     "base_uri": "https://localhost:8080/"
    },
    "executionInfo": {
     "status": "ok",
     "timestamp": 1716039858365,
     "user_tz": -300,
     "elapsed": 4442,
     "user": {
      "displayName": "Артём Сурков",
      "userId": "09223327818636117606"
     }
    },
    "outputId": "32477597-4880-40c1-8aac-aef0d9a0a036",
    "ExecuteTime": {
     "end_time": "2024-05-22T20:17:27.680317Z",
     "start_time": "2024-05-22T20:17:25.634375Z"
    }
   },
   "outputs": [
    {
     "name": "stdout",
     "output_type": "stream",
     "text": [
      "5 * 1 = 5\n",
      "5 * 2 = 10\n",
      "5 * 3 = 15\n",
      "5 * 4 = 20\n",
      "5 * 5 = 25\n",
      "5 * 6 = 30\n",
      "5 * 7 = 35\n",
      "5 * 8 = 40\n",
      "5 * 9 = 45\n"
     ]
    }
   ],
   "source": [
    "# Получение строки, содержащая в себе таблицу умножения на это число\n",
    "def getMultiplicationTable(number):\n",
    "    arrayStr = list()\n",
    "    if (num >= 1 and num < 10):\n",
    "        for i in range(1, 10):\n",
    "            arrayStr.append(f\"{number} * {i} = {number * i}\")\n",
    "        return \"\\n\".join(arrayStr)\n",
    "    else:\n",
    "        return \"Число не входит в интервал от 1 до 9.\"\n",
    "\n",
    "\n",
    "num = int(input(\"Введите число от 1 до 9: \"))\n",
    "print(getMultiplicationTable(num))"
   ]
  },
  {
   "cell_type": "markdown",
   "source": [
    "# Задание 4"
   ],
   "metadata": {
    "id": "LHILT03WoeeN"
   }
  },
  {
   "cell_type": "markdown",
   "source": [
    "Напишите программу, которая анализирует ежедневные расходы за неделю. Пользователь вводит суммы, потраченные в каждый день недели, а программа определяет самый дорогой и самый дешевый дни, а также среднюю сумму расходов за неделю.\n",
    "\n",
    "**Ход решения:**\n",
    "1. Создать переменные для хранения:\n",
    "\n",
    "  * max_expense = 0 # максимальные траты за неделю\n",
    "  * min_expense = 0 # минимальные траты за неделю\n",
    "  * total_expense = 0 # общие траты за неделю\n",
    "  * max_day = 0 # номер дня с максимальными тратами\n",
    "  * min_day = 0 # номер дня с минимальными тратами\n",
    "\n",
    "2. Создать цикл ввода значений трат. Использовать цикл for или while. Внутри цикла выполнить следующие действия:\n",
    "\n",
    "  * Ввести с клавиатуры сумму трат за день в формате float\n",
    "  * Добавить значение трат к общей сумме за неделю total_expense\n",
    "  * Через if…elif сравнить сумму дня с переменными max_expense и min_expense\n",
    "3. Вычислить среднюю сумму трат за неделю\n",
    "4. Вывести результат через print() и f-строки. Пример:\n",
    "```python\n",
    "print(f\"Самый дорогой день: {max_day}, сумма: {max_expense}\")\n",
    "```\n",
    "\n",
    "**Вход программы:**\n",
    "\n",
    "Введите сумму, потраченную 1-й день: 456\n",
    "\n",
    "Введите сумму, потраченную 2-й день: 256\n",
    "\n",
    "Введите сумму, потраченную 3-й день: 125\n",
    "\n",
    "Введите сумму, потраченную 4-й день: 789\n",
    "\n",
    "Введите сумму, потраченную 5-й день: 654\n",
    "\n",
    "Введите сумму, потраченную 6-й день: 789\n",
    "\n",
    "Введите сумму, потраченную 7-й день: 547\n",
    "\n",
    "**Выход программы:**\n",
    "\n",
    "Самый дорогой день: 4, сумма: 789.0\n",
    "\n",
    "Самый дорогой день: 6, сумма: 789.0\n",
    "\n",
    "Самый дешевый день: 3, сумма: 125.0\n",
    "\n",
    "Средняя сумма расходов за неделю: 516.57\n",
    "\n",
    "\n",
    "\n"
   ],
   "metadata": {
    "id": "h9Y26tMEoeeN"
   }
  },
  {
   "cell_type": "code",
   "execution_count": 8,
   "metadata": {
    "id": "GHVgFVGfoeeO",
    "colab": {
     "base_uri": "https://localhost:8080/"
    },
    "executionInfo": {
     "status": "ok",
     "timestamp": 1716408526290,
     "user_tz": -300,
     "elapsed": 37266,
     "user": {
      "displayName": "Артём Сурков",
      "userId": "09223327818636117606"
     }
    },
    "outputId": "e7b52ec8-76b6-4240-bf46-0919bbad0cad",
    "ExecuteTime": {
     "end_time": "2024-05-22T20:17:48.451190Z",
     "start_time": "2024-05-22T20:17:27.681321Z"
    }
   },
   "outputs": [
    {
     "name": "stdout",
     "output_type": "stream",
     "text": [
      "Самый дорогой день: 5, сумма: 3500.0\n",
      "Самый дешевый день: 7, сумма: 50.0\n",
      "Общая сумма расходов за неделю: 5330.0\n",
      "Средняя сумма расходов за неделю: 761.43\n"
     ]
    }
   ],
   "source": [
    "# Проверка: больше ли значение, чем максимальные траты за неделю?\n",
    "def moreThanMaxExpense(num, maxExpense):\n",
    "    if num > maxExpense:\n",
    "        return True\n",
    "    else:\n",
    "        return False\n",
    "\n",
    "\n",
    "# Проверка: меньше ли значение, чем минимальные траты за неделю?\n",
    "def lessThanMinExpense(num, minExpense):\n",
    "    if num < minExpense:\n",
    "        return True\n",
    "    else:\n",
    "        return False\n",
    "\n",
    "\n",
    "# Получение сводки за неделю\n",
    "def getSummaryOfWeek(maxExpense, minExpense, maxDays, minDays, totalExpense):\n",
    "    return (f\"Самый дорогой день: {maxDays}, сумма: {maxExpense}\\n\"\n",
    "            f\"Самый дешевый день: {minDays}, сумма: {minExpense}\\n\"\n",
    "            f\"Общая сумма расходов за неделю: {totalExpense}\\n\"\n",
    "            f\"Средняя сумма расходов за неделю: {(totalExpense / 7):.2f}\")\n",
    "\n",
    "\n",
    "# максимальные траты за неделю\n",
    "maxExpense = 0\n",
    "# минимальные траты за неделю\n",
    "minExpense = float('inf')\n",
    "# общие траты за неделю\n",
    "totalExpense = 0\n",
    "# номер дня с максимальными тратами\n",
    "maxDay = 0\n",
    "# номер дня с минимальными тратами\n",
    "minDay = 0\n",
    "\n",
    "for i in range(1, 8):\n",
    "    amountSpent = float(input(f\"Введите сумму, потраченную в {i}-й день:\"))\n",
    "\n",
    "    if moreThanMaxExpense(amountSpent, maxExpense):\n",
    "        maxExpense = amountSpent\n",
    "        maxDay = i\n",
    "\n",
    "    if lessThanMinExpense(amountSpent, minExpense):\n",
    "        minExpense = amountSpent\n",
    "        minDay = i\n",
    "\n",
    "    totalExpense += amountSpent\n",
    "\n",
    "print(getSummaryOfWeek(maxExpense, minExpense, maxDay, minDay, totalExpense))"
   ]
  },
  {
   "cell_type": "markdown",
   "source": [
    "# Задание 5"
   ],
   "metadata": {
    "id": "e112iXBloe7K"
   }
  },
  {
   "cell_type": "markdown",
   "source": [
    "На вход программе подаются два целых положительных числа, записанных в одну строку через пробел.\n",
    "\n",
    "Необходимо прочитать эти числа в переменные first_number и second_number (в порядке считывания). Определить, если число first_number  делится нацело на число second_number , то вывести на экран частное от деления (результат деления) в виде целого числа.\n",
    "\n",
    "В противном случае вывести сообщение «first_number на second_number  нацело не делится»  и вместо first_number и second_number подставить соответствующие числа, например: «13 на 2 нацело не делится».\n",
    "\n",
    "**Ход решения:**\n",
    "1. Считываем два числа first_number и second_number с клавиатуры. Числа целые типа int. Используем конструкцию из лекции:\n",
    "first_number, second_number = map(int, input().split())\n",
    "2. Проверяем, делится ли first_number нацело на second_number. Используем ветвление if…else, оператор %.\n",
    "  * Если делится нацело, то выводим частное от деления (убедиться, что число выводится тоже int)\n",
    "  * Если не делится, то выводим сообщение \"{first_number} на {second_number} нацело не делится\"\n",
    "\n",
    "**Вход программы:**\n",
    "\n",
    "Введите 2 числа через пробел: 45 5\n",
    "\n",
    "**Выход программы:**\n",
    "\n",
    "9\n",
    "\n",
    "**Вход программы:**\n",
    "\n",
    "Введите 2 числа через пробел: 46 7\n",
    "\n",
    "**Выход программы:**\n",
    "\n",
    "46 на 7 нацело не делится"
   ],
   "metadata": {
    "id": "LrDUTEQooe7K"
   }
  },
  {
   "cell_type": "code",
   "execution_count": 9,
   "metadata": {
    "id": "_mV9JRPToe7K",
    "colab": {
     "base_uri": "https://localhost:8080/"
    },
    "executionInfo": {
     "status": "ok",
     "timestamp": 1716039917705,
     "user_tz": -300,
     "elapsed": 5133,
     "user": {
      "displayName": "Артём Сурков",
      "userId": "09223327818636117606"
     }
    },
    "outputId": "434cacb8-a7e4-41e4-c99e-2d5d2ed268c8",
    "ExecuteTime": {
     "end_time": "2024-05-22T20:17:53.518084Z",
     "start_time": "2024-05-22T20:17:48.452197Z"
    }
   },
   "outputs": [
    {
     "name": "stdout",
     "output_type": "stream",
     "text": [
      "2\n"
     ]
    }
   ],
   "source": [
    "# Проверка: делятся ли числа нацело?\n",
    "def checkDivisionCompletely(firstNumber, secondNumber):\n",
    "    if firstNumber % secondNumber == 0:\n",
    "        return True\n",
    "    else:\n",
    "        return False\n",
    "\n",
    "\n",
    "# Вывод ответа\n",
    "def getAnswers(firstNumber, secondNumber):\n",
    "    if checkDivisionCompletely(firstNumber, secondNumber):\n",
    "        return int(firstNumber / secondNumber)\n",
    "    else:\n",
    "        return f'{firstNumber} на {secondNumber} нацело не делится'\n",
    "\n",
    "\n",
    "firstNumber, secondNumber = map(int, input(\"Введите 2 числа через пробел: \").split())\n",
    "print(getAnswers(firstNumber, secondNumber))"
   ]
  }
 ]
}
