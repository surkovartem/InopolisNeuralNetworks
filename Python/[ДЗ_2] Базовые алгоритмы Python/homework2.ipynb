{
 "nbformat": 4,
 "nbformat_minor": 0,
 "metadata": {
  "colab": {
   "provenance": []
  },
  "kernelspec": {
   "name": "python3",
   "language": "python",
   "display_name": "Python 3 (ipykernel)"
  },
  "language_info": {
   "name": "python"
  }
 },
 "cells": [
  {
   "cell_type": "markdown",
   "source": [
    "# Задание 1 Работа со списками (list)"
   ],
   "metadata": {
    "id": "GiYQGjAL0zsp"
   }
  },
  {
   "cell_type": "markdown",
   "source": [
    "Напишите программу, которая считывает с клавиатуры размер списка целых чисел. От 1 до размера списка сгенерировать случайным образом (random) массив.\n",
    "\n",
    "Вывести для сгенерированного массива:\n",
    "* длину\n",
    "* последний элемент\n",
    "* массив в обратном порядке (реверс)\n",
    "* если массив содержит числа 5 и 17 вывести “Да”, иначе “Нет”\n",
    "* создать копию массива и у копии удалить первый и последний элементы (использовать pop)\n",
    "\n",
    "**Выход программы:**\n",
    "\n",
    "Введите размер массива: 20\n",
    "\n",
    "Длина массива: 20\n",
    "\n",
    "Последний элемент массива: 74\n",
    "\n",
    "Массив в обратном порядке: 74, 35, 59, 100, 29, 65, 58, 91, 40, 96, 36, 80, 66, 72, 77, 75, 76, 98, 90, 35\n",
    "\n",
    "Нет\n",
    "\n",
    "Копия массива после удаления первого и последнего элементов: 90, 98, 76, 75, 77, 72, 66, 80, 36, 96, 40, 91, 58, 65, 29, 100, 59, 35\n"
   ],
   "metadata": {
    "id": "Gwu6TnEI5NEL"
   }
  },
  {
   "cell_type": "code",
   "source": [
    "import random\n",
    "\n",
    "\n",
    "# Метод получения результата по \"Задание 1 Работа со списками (list)\"\n",
    "def getResult(array):\n",
    "    length = len(array)\n",
    "    lastElem = array[len(array) - 1]\n",
    "    containElem5And17 = contain5And17(array)\n",
    "    copyArray = delateFstAndLstElemOfCopy(array)\n",
    "    reversArray = reverse(array, 0, len(array) - 1)\n",
    "\n",
    "    return (f\"Длина массива: {length}\\n\"\n",
    "            f\"Последний элемент массива: {lastElem}\\n\"\n",
    "            f\"Массив в обратном порядке: {reversArray}\\n\"\n",
    "            f\"{containElem5And17}\\n\"\n",
    "            f\"Копия массива после удаления первого и последнего элементов: {copyArray}\")\n",
    "\n",
    "\n",
    "# Метод разворачивающий массив в обратном порядке\n",
    "def reverse(arr, left, right):\n",
    "    while left < right:\n",
    "        temp = arr[left]\n",
    "        arr[left] = arr[right]\n",
    "        arr[right] = temp\n",
    "        left += 1\n",
    "        right -= 1\n",
    "    return arr\n",
    "\n",
    "\n",
    "# Метод, определеяющий содержание в массиве чисел 5 и 17\n",
    "def contain5And17(array):\n",
    "    contains5 = 5 in array\n",
    "    contains7 = 17 in array\n",
    "    if contains5 and contains7:\n",
    "        return \"Да\"\n",
    "    else:\n",
    "        return \"Нет\"\n",
    "\n",
    "\n",
    "# Метод копирующий входной массив и удаляющий у него первый и последний элемент\n",
    "def delateFstAndLstElemOfCopy(array):\n",
    "    result = array.copy()\n",
    "    result.pop(0)\n",
    "    result.pop(len(result) - 1)\n",
    "    return result\n",
    "\n",
    "\n",
    "n = int(input(\"Введите размер массива: \"))\n",
    "array = [random.randint(1, n) for number in range(n)]\n",
    "output = getResult(array)\n",
    "print(output)"
   ],
   "metadata": {
    "id": "MtdlsUmS01oi",
    "colab": {
     "base_uri": "https://localhost:8080/"
    },
    "executionInfo": {
     "status": "ok",
     "timestamp": 1716267731277,
     "user_tz": -300,
     "elapsed": 5591,
     "user": {
      "displayName": "Артём Сурков",
      "userId": "09223327818636117606"
     }
    },
    "outputId": "9a35d07d-afb1-4728-9e4f-74f307fa9689",
    "ExecuteTime": {
     "end_time": "2024-05-22T20:19:40.780942Z",
     "start_time": "2024-05-22T20:19:36.874268Z"
    }
   },
   "execution_count": 4,
   "outputs": [
    {
     "name": "stdout",
     "output_type": "stream",
     "text": [
      "Длина массива: 10\n",
      "Последний элемент массива: 3\n",
      "Массив в обратном порядке: [3, 2, 6, 8, 1, 8, 7, 9, 3, 9]\n",
      "Нет\n",
      "Копия массива после удаления первого и последнего элементов: [3, 9, 7, 8, 1, 8, 6, 2]\n"
     ]
    }
   ]
  },
  {
   "cell_type": "markdown",
   "source": [
    "# Задание 2 Работа с кортежами (tuples)\n"
   ],
   "metadata": {
    "id": "Wt9wpCX-n9VV"
   }
  },
  {
   "cell_type": "markdown",
   "source": [
    "Напишите программу, которая преобразует введенный пользователем список целых чисел в кортеж. Затем программа должна вычислить и вывести:\n",
    "* среднее значение\n",
    "* минимальное значение\n",
    "* максимальное значение значение\n",
    "\n",
    "всех чисел в кортеже.\n",
    "\n",
    "\n",
    "**Вход программы:**\n",
    "\n",
    "Введите числа, разделенные пробелами: 4 2 3 5 7 8 4 6 5 2 44 22 11 55 77 88\n",
    "\n",
    "**Выход программы:**\n",
    "\n",
    "Среднее значение: 21.438\n",
    "\n",
    "Минимальное значение: 2\n",
    "\n",
    "Максимальное значение: 88\n"
   ],
   "metadata": {
    "id": "s_m1v4wRoDr2"
   }
  },
  {
   "cell_type": "code",
   "execution_count": 5,
   "metadata": {
    "id": "-7DW4lSMnlX_",
    "colab": {
     "base_uri": "https://localhost:8080/"
    },
    "executionInfo": {
     "status": "ok",
     "timestamp": 1716269190887,
     "user_tz": -300,
     "elapsed": 10594,
     "user": {
      "displayName": "Артём Сурков",
      "userId": "09223327818636117606"
     }
    },
    "outputId": "a58e0a38-bea5-4c53-ca94-5a38f85a58c6",
    "ExecuteTime": {
     "end_time": "2024-05-22T20:19:46.992755Z",
     "start_time": "2024-05-22T20:19:40.781958Z"
    }
   },
   "outputs": [
    {
     "name": "stdout",
     "output_type": "stream",
     "text": [
      "Среднее значение: 5.5\n",
      "Минимальное значение: 1\n",
      "Максимальное значение: 10\n"
     ]
    }
   ],
   "source": [
    "# Метод получения результата по \"Задание 2 Работа с кортежами (tuples)\"\n",
    "def getAnswer(array):\n",
    "    tuple = convert(array)\n",
    "    averageValue = getAverageValue(tuple)\n",
    "    maxElement = getMaxValue(tuple)\n",
    "    minElement = getMinValue(tuple)\n",
    "    return (f\"Среднее значение: {averageValue}\\n\"\n",
    "            f\"Минимальное значение: {minElement}\\n\"\n",
    "            f\"Максимальное значение: {maxElement}\")\n",
    "\n",
    "\n",
    "# Метод конвертирующий массив целых чисел в кортеж\n",
    "def convert(array):\n",
    "    return tuple(array)\n",
    "\n",
    "\n",
    "# Метод получения среднего значения\n",
    "def getAverageValue(array):\n",
    "    n = len(array)\n",
    "    total = 0\n",
    "    for element in array:\n",
    "        total += element\n",
    "    return total / n\n",
    "\n",
    "\n",
    "# Метод получения минимального значения\n",
    "def getMinValue(array):\n",
    "    min = array[0]\n",
    "    for element in array:\n",
    "        if element < min:\n",
    "            min = element\n",
    "    return min\n",
    "\n",
    "\n",
    "# Метод получения максимального значения\n",
    "def getMaxValue(array):\n",
    "    max = array[0]\n",
    "    for element in array:\n",
    "        if element > max:\n",
    "            max = element\n",
    "    return max\n",
    "\n",
    "\n",
    "array = list(map(int, input(\"Введите числа, разделенные пробелами: \").split()))\n",
    "output = getAnswer(array)\n",
    "print(output)"
   ]
  },
  {
   "cell_type": "markdown",
   "source": [
    "# Задание 3 Работа с матрицей NumPy\n"
   ],
   "metadata": {
    "id": "7wRmVqbwocT0"
   }
  },
  {
   "cell_type": "markdown",
   "source": [
    "На вход программе подается список натуральных чисел, разделенных пробелом. После ввода убедиться, что чисел хватает для создания квадратной матрицы.\n",
    "\n",
    "\n",
    "Необходимо:\n",
    "* сформировать двумерный квадратный массив numpy (квадратную матрицу), последовательно располагая элементы списка по строкам матрицы\n",
    "* вывести на экран через пробел диагональные элементы полученного двумерного массива.\n",
    "\n",
    "**Вход программы:**\n",
    "\n",
    "Введите числа, разделенные пробелом: 2 3 1 5 3 8 7 16 17\n",
    "\n",
    "**Выход программы:**\n",
    "\n",
    "Квадратная матрица:\n",
    " [[ 2  3  1]\n",
    " [ 5  3  8]\n",
    " [ 7 16 17]]\n",
    "\n",
    "Диагональные элементы: 2 3 17\n",
    "\n",
    "**Вход программы:**\n",
    "\n",
    "Введите числа, разделенные пробелом: 2 3 1 5 3 8 7\n",
    "\n",
    "**Выход программы:**\n",
    "\n",
    "Ошибка: чисел не хватит для квадратной матрицы.\n"
   ],
   "metadata": {
    "id": "isWnEsQkocT8"
   }
  },
  {
   "cell_type": "code",
   "execution_count": 6,
   "metadata": {
    "id": "_qnBOBCZocT8",
    "colab": {
     "base_uri": "https://localhost:8080/"
    },
    "executionInfo": {
     "status": "ok",
     "timestamp": 1716404267933,
     "user_tz": -300,
     "elapsed": 8956,
     "user": {
      "displayName": "Артём Сурков",
      "userId": "09223327818636117606"
     }
    },
    "outputId": "07ea82d0-b9b9-40a7-f0ec-4919404e2ac8",
    "ExecuteTime": {
     "end_time": "2024-05-22T20:20:04.096426Z",
     "start_time": "2024-05-22T20:19:46.995168Z"
    }
   },
   "outputs": [
    {
     "name": "stdout",
     "output_type": "stream",
     "text": [
      "Квадратная матрица:\n",
      "[[ 1  2  3  4]\n",
      " [ 5  6  7  8]\n",
      " [ 9 10 11 12]\n",
      " [13 14 15 16]]\n",
      "Диагональные элементы: [ 1  6 11 16]\n"
     ]
    }
   ],
   "source": [
    "import numpy as np\n",
    "\n",
    "\n",
    "# Метод возвращающий квадратную матрицу и ее диагональные элементы\n",
    "def getSquareMatrixAndDiagonal(arr):\n",
    "    if abilityCreateSquareMatrix(arr):\n",
    "        size = int(len(arr) ** 0.5)\n",
    "        squareMatrix = np.array(arr).reshape(size, size)\n",
    "        # Если необходим вывод квадратной матрицы в одну строку (как в примере к задаче)\n",
    "        # squareMatrix = [list(x) for x in zip(*squareMatrix)]\n",
    "        if abilityGetDiagonalElements(squareMatrix):\n",
    "            diagonalElements = np.array(squareMatrix).diagonal()\n",
    "            return (f'Квадратная матрица:\\n{squareMatrix}\\n'\n",
    "                    f'Диагональные элементы: {diagonalElements}')\n",
    "        else:\n",
    "            return (f'Квадратная матрица: {squareMatrix}\\n'\n",
    "                    f'Для получения диагональных элементов требуется матрица, как минимум из двух измерений.')\n",
    "    else:\n",
    "        return \"Чисел не хватит для квадратной матрицы.\"\n",
    "\n",
    "\n",
    "# Метод проверяющий возможность создания квадратной матрицы из входного массива\n",
    "def abilityCreateSquareMatrix(arr):\n",
    "    size = len(arr) ** 0.5\n",
    "    if size % 1 == 0:\n",
    "        return True\n",
    "    else:\n",
    "        return False\n",
    "\n",
    "\n",
    "# Метод проверяющий возможность получения диагональных элементов (т.к при одном измерении это не возможно)\n",
    "def abilityGetDiagonalElements(arr):\n",
    "    rows = arr.shape[0]\n",
    "    if rows > 1:\n",
    "        return True\n",
    "    else:\n",
    "        return False\n",
    "\n",
    "\n",
    "array = list(map(int, input(\"Введите числа, разделенные пробелом: \").split()))\n",
    "output = getSquareMatrixAndDiagonal(array)\n",
    "print(output)"
   ]
  },
  {
   "cell_type": "markdown",
   "source": [
    "# Задание 4 Срезы и операции с матрицами NumPy\n"
   ],
   "metadata": {
    "id": "LHILT03WoeeN"
   }
  },
  {
   "cell_type": "markdown",
   "source": [
    "Дана матрица из 4-х строк. Выполнить с матрицей следующие действия:\n",
    "\n",
    "1. Из исходной матрицы сделать две новые матрицы. Первая будет состоять из первых двух строк исходной матрицы, вторая - из оставшихся строк. Распечатать полученные матрицы.\n",
    "2. Посчитать сумму полученных в п.1 двух матриц. Посчитать среднее значение получившейся матрицы суммы. Распечатать полученные значения.\n",
    "3. Посчитать разность полученных в п.1 двух матриц. Посчитать среднее значение получившейся матрицы разности. Распечатать полученные значения.\n",
    "4. Вывести на экран произведение средних для матрицы суммы и разности.\n",
    "\n"
   ],
   "metadata": {
    "id": "h9Y26tMEoeeN"
   }
  },
  {
   "cell_type": "code",
   "execution_count": 7,
   "metadata": {
    "id": "GHVgFVGfoeeO",
    "colab": {
     "base_uri": "https://localhost:8080/"
    },
    "executionInfo": {
     "status": "ok",
     "timestamp": 1716408112970,
     "user_tz": -300,
     "elapsed": 290,
     "user": {
      "displayName": "Артём Сурков",
      "userId": "09223327818636117606"
     }
    },
    "outputId": "456831f4-7795-40dc-dc3a-f89dc63f42c1",
    "ExecuteTime": {
     "end_time": "2024-05-22T20:20:04.104568Z",
     "start_time": "2024-05-22T20:20:04.097426Z"
    }
   },
   "outputs": [
    {
     "name": "stdout",
     "output_type": "stream",
     "text": [
      "Исходная матрица:\n",
      "[[6 9 1 4]\n",
      " [6 5 8 7]\n",
      " [2 9 7 2]\n",
      " [7 2 5 4]]\n",
      "\n",
      "Матрица 1:\n",
      "[[6 9 1 4]\n",
      " [6 5 8 7]]\n",
      "Матрица 2:\n",
      "[[2 9 7 2]\n",
      " [7 2 5 4]]\n",
      "\n",
      "Матрица после сложения 1 и 2 части:\n",
      " [[ 8 18  8  6]\n",
      " [13  7 13 11]]\n",
      "Среднее значение суммы матриц: 10.5\n",
      "\n",
      "Матрица после вычитания 1 и 2 части:\n",
      " [[ 4  0 -6  2]\n",
      " [-1  3  3  3]]\n",
      "Среднее значение вычитания матриц: 1.0\n",
      "\n",
      "Произведение средних значений: 10.5\n"
     ]
    }
   ],
   "source": [
    "import numpy as np\n",
    "\n",
    "\n",
    "# Метод получения результата по \"Задание 4 Срезы и операции с матрицами NumPy\"\n",
    "def getAnswer(matrix):\n",
    "    print(f\"Исходная матрица:\\n{matrix}\\n\")\n",
    "\n",
    "    newMatrices = np.split(matrix, 2)\n",
    "    matrix1 = newMatrices[0]\n",
    "    matrix2 = newMatrices[1]\n",
    "    print(f\"Матрица 1:\\n{matrix1}\\n\"\n",
    "          f\"Матрица 2:\\n{matrix2}\\n\")\n",
    "\n",
    "    matrixSum = matrix1 + matrix2\n",
    "    print(\"Матрица после сложения 1 и 2 части:\\n\", matrixSum)\n",
    "\n",
    "    averageValueOfSum = np.mean(matrixSum)\n",
    "    print(f\"Среднее значение суммы матриц: {averageValueOfSum}\\n\")\n",
    "\n",
    "    matrixDifference = matrix1 - matrix2\n",
    "    print(\"Матрица после вычитания 1 и 2 части:\\n\", matrixDifference)\n",
    "\n",
    "    averageValueOfDifference = np.mean(matrixDifference)\n",
    "    print(f\"Среднее значение вычитания матриц: {averageValueOfDifference}\\n\")\n",
    "\n",
    "    print(f\"Произведение средних значений: {averageValueOfSum * averageValueOfDifference}\")\n",
    "\n",
    "\n",
    "matrix = np.random.randint(1, 10, (4, 4))\n",
    "getAnswer(matrix)\n"
   ]
  }
 ]
}
