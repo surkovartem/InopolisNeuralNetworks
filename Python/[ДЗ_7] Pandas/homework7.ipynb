{
  "nbformat": 4,
  "nbformat_minor": 0,
  "metadata": {
    "colab": {
      "provenance": []
    },
    "kernelspec": {
      "name": "python3",
      "display_name": "Python 3"
    },
    "language_info": {
      "name": "python"
    }
  },
  "cells": [
    {
      "cell_type": "markdown",
      "source": [
        "# Работа с библиотекой Pandas"
      ],
      "metadata": {
        "id": "GiYQGjAL0zsp"
      }
    },
    {
      "cell_type": "markdown",
      "source": [
        "1. Загрузите набор данных из файла **HW_car_data_simple.csv** с помощью библиотеки pandas.\n",
        "\n"
      ],
      "metadata": {
        "id": "7NRDKGYTNs2c"
      }
    },
    {
      "cell_type": "code",
      "source": [
        "import pandas as pd\n",
        "\n",
        "# Аутентификации в Google\n",
        "from google.colab import drive\n",
        "drive.mount(\"/content/drive\")\n",
        "\n",
        "path = \"/content/drive/MyDrive/Инополис/Задание7/HW_car_data_simple.csv\"\n",
        "df = pd.read_csv(path)\n",
        "print(df)"
      ],
      "metadata": {
        "id": "MtdlsUmS01oi",
        "colab": {
          "base_uri": "https://localhost:8080/"
        },
        "outputId": "b914998a-2b5b-4e9f-9c05-9e86ad999ef5"
      },
      "execution_count": 50,
      "outputs": [
        {
          "output_type": "stream",
          "name": "stdout",
          "text": [
            "Drive already mounted at /content/drive; to attempt to forcibly remount, call drive.mount(\"/content/drive\", force_remount=True).\n",
            "                          name   mpg  cylinders  displacement  horsepower  \\\n",
            "0    chevrolet chevelle malibu  18.0          8         307.0       130.0   \n",
            "1            buick skylark 320  15.0          8         350.0       165.0   \n",
            "2           plymouth satellite  18.0          8         318.0       150.0   \n",
            "3                amc rebel sst  16.0          8         304.0       150.0   \n",
            "4                  ford torino  17.0          8         302.0       140.0   \n",
            "..                         ...   ...        ...           ...         ...   \n",
            "393            ford mustang gl  27.0          4         140.0        86.0   \n",
            "394                  vw pickup  44.0          4          97.0        52.0   \n",
            "395              dodge rampage  32.0          4         135.0        84.0   \n",
            "396                ford ranger  28.0          4         120.0        79.0   \n",
            "397                 chevy s-10  31.0          4         119.0        82.0   \n",
            "\n",
            "     weight  acceleration  model_year  origin  \n",
            "0      3504          12.0          70     usa  \n",
            "1      3693          11.5          70     usa  \n",
            "2      3436          11.0          70     usa  \n",
            "3      3433          12.0          70     usa  \n",
            "4      3449          10.5          70     usa  \n",
            "..      ...           ...         ...     ...  \n",
            "393    2790          15.6          82     usa  \n",
            "394    2130          24.6          82  europe  \n",
            "395    2295          11.6          82     usa  \n",
            "396    2625          18.6          82     usa  \n",
            "397    2720          19.4          82     usa  \n",
            "\n",
            "[398 rows x 9 columns]\n"
          ]
        }
      ]
    },
    {
      "cell_type": "markdown",
      "source": [
        "2. Есть ли в данных пропуски? Если есть, удалить или заполнить средним значением по столбцу."
      ],
      "metadata": {
        "id": "87KfCTHKN_5V"
      }
    },
    {
      "cell_type": "code",
      "source": [
        "import numpy as np\n",
        "import pandas as pd\n",
        "\n",
        "\n",
        "# Метод обработки столбцов с пустыми значениями\n",
        "def processingEmptyColumns(emptyColumns):\n",
        "    print(f\"Data Frame содержит следующие столбцы (числового типа) с пустыми значениями: {emptyColumns}\")\n",
        "    for columnName in emptyColumns:\n",
        "        print(f\"[Проверка до обработки столбца {columnName}...]\")\n",
        "        findEmptyCellsIndices(df, columnName)\n",
        "        print(f\"Обработка {columnName}, путем заполнения пустых ячеек средним значением по столбцу...\")\n",
        "        fillEmptyCellsWithMean(df, columnName)\n",
        "        print(f\"[Проверка после обработки столбца {columnName} на пустые ячейки...]\")\n",
        "        findEmptyCellsIndices(df, columnName)\n",
        "\n",
        "\n",
        "# Метод заполняет пустые ячейки в столбце DataFrame средним значением.\n",
        "def fillEmptyCellsWithMean(df, columnName):\n",
        "    # Среднее значение по столбцу\n",
        "    meanValue = round(df[columnName].mean(), 1)\n",
        "    print(f\"Среднее значение стобца {columnName}: {meanValue}\")\n",
        "    print(\"Заполняем пустые ячейки средним значением по столбцу\")\n",
        "    df[columnName] = df[columnName].fillna(meanValue)\n",
        "    print(f\"Обработка {columnName} завершена!\")\n",
        "    return df\n",
        "\n",
        "\n",
        "# Метод получения столбцов, содержащие числовые значения и пустые ячейки в виде списка\n",
        "def getNumericColumnsWithNulls(df):\n",
        "    # Получим столбцы, только с числовыми значениями.\n",
        "    numericСolumns = df.select_dtypes(include='number').columns\n",
        "    # Возвращаем столбцы с числовыми значениями, в которых есть пустые ячейки\n",
        "    return numericСolumns[df[numericСolumns].isnull().any()].tolist()\n",
        "\n",
        "\n",
        "# Метод возвращает индексы пустых ячеек в указанном столбце (для проверки решения)\n",
        "def findEmptyCellsIndices(df, columnName):\n",
        "    listOfColumn = df[columnName].tolist()\n",
        "    indexOfEmptyCells = []\n",
        "    numberOfEmptyCells = 0\n",
        "    for i, item in enumerate(listOfColumn):\n",
        "        if np.isnan(item):\n",
        "            numberOfEmptyCells += 1\n",
        "            indexOfEmptyCells.append(i)\n",
        "    if numberOfEmptyCells > 0:\n",
        "        print(f\"Столбец {columnName} содержит {numberOfEmptyCells} пустых ячеек\"\n",
        "              f\" по следующим индексам: {indexOfEmptyCells}\")\n",
        "    else:\n",
        "        print(f\"Столбец {columnName} не содержит пустых ячеек\\n\")\n",
        "\n",
        "\n",
        "# Считываем файл\n",
        "path = \"/content/drive/MyDrive/Инополис/Задание7/HW_car_data_simple.csv\"\n",
        "df = pd.read_csv(path)\n",
        "# Получение столбцов с числовыми значениями, содержащие пустые ячейки\n",
        "emptyColumns = getNumericColumnsWithNulls(df)\n",
        "if len(emptyColumns) > 0:\n",
        "    processingEmptyColumns(emptyColumns)\n",
        "\n",
        "df.to_csv('your_file.csv', index=False)\n"
      ],
      "metadata": {
        "id": "i7aHYX-EN_5W",
        "colab": {
          "base_uri": "https://localhost:8080/"
        },
        "outputId": "db42e80a-d205-4d08-cfcf-432d655b888a"
      },
      "execution_count": 51,
      "outputs": [
        {
          "output_type": "stream",
          "name": "stdout",
          "text": [
            "Data Frame содержит следующие столбцы (числового типа) с пустыми значениями: ['horsepower']\n",
            "[Проверка до обработки столбца horsepower...]\n",
            "Столбец horsepower содержит 6 пустых ячеек по следующим индексам: [32, 126, 330, 336, 354, 374]\n",
            "Обработка horsepower, путем заполнения пустых ячеек средним значением по столбцу...\n",
            "Среднее значение стобца horsepower: 104.5\n",
            "Заполняем пустые ячейки средним значением по столбцу\n",
            "Обработка horsepower завершена!\n",
            "[Проверка после обработки столбца horsepower на пустые ячейки...]\n",
            "Столбец horsepower не содержит пустых ячеек\n",
            "\n"
          ]
        }
      ]
    },
    {
      "cell_type": "markdown",
      "source": [
        "3. Выведите статистику для столбцов с категориальными переменными:\n",
        "\n",
        "* количество уникальных значений,\n",
        "* моду,\n",
        "* количество пропущенных значений;\n"
      ],
      "metadata": {
        "id": "cqaRFHAjOAAs"
      }
    },
    {
      "cell_type": "code",
      "source": [
        "# Метод получения статистики для столбцов с категориальными переменными\n",
        "def getStatColumnsWithCategoricalVariables(df):\n",
        "    columns = df.select_dtypes(exclude='number').columns\n",
        "    print(\"[==========Cтатистика для столбцов с категориальными переменными==========]\")\n",
        "    for column in columns:\n",
        "        print(f\"Количество уникальных значений для столбца {column}: {df[column].nunique()}\")\n",
        "        print(f\"Мода для столбца {column}: {df[column].mode()[0]}\")\n",
        "        print(f\"Количество пропущенных значений для столбца {column}: {df[column].isnull().sum()}\\n\")\n",
        "\n",
        "# Считываем файл\n",
        "path = \"/content/drive/MyDrive/Инополис/Задание7/HW_car_data_simple.csv\"\n",
        "df = pd.read_csv(path)\n",
        "getStatColumnsWithCategoricalVariables(df)"
      ],
      "metadata": {
        "id": "qghvRt4eOAAs",
        "colab": {
          "base_uri": "https://localhost:8080/"
        },
        "outputId": "7025487a-ec6e-42d6-b094-f449e0b8babf"
      },
      "execution_count": 52,
      "outputs": [
        {
          "output_type": "stream",
          "name": "stdout",
          "text": [
            "[==========Cтатистика для столбцов с категориальными переменными==========]\n",
            "Количество уникальных значений для столбца name: 305\n",
            "Мода для столбца name: ford pinto\n",
            "Количество пропущенных значений для столбца name: 0\n",
            "\n",
            "Количество уникальных значений для столбца origin: 3\n",
            "Мода для столбца origin: usa\n",
            "Количество пропущенных значений для столбца origin: 0\n",
            "\n"
          ]
        }
      ]
    },
    {
      "cell_type": "markdown",
      "source": [
        "4. Выведите статистику для столбцов с интервальными (числовыми) переменными:\n",
        "\n",
        "* медиану,\n",
        "* среднее,\n",
        "* квантили 90, 75, 50, 25, 10,\n",
        "* максимальное значение,\n",
        "* минимальное значение,\n",
        "* количество пропущенных значений."
      ],
      "metadata": {
        "id": "4zAQjPb0OAPM"
      }
    },
    {
      "cell_type": "code",
      "source": [
        "# Метод получения статистики для столбцов с интервальными (числовыми) переменными\n",
        "def getStatColumnsWithNumericColumns(df):\n",
        "    columns = df.select_dtypes(include='number').columns\n",
        "    print(\"[==========Cтатистика для столбцов с интервальными (числовыми) переменными==========]\")\n",
        "    for column in columns:\n",
        "        print(f\"Медиана столбца {column}: {df[column].median()}\")\n",
        "        print(f\"Среднее значение столбца {column}: {df[column].mean()}\")\n",
        "        print(f\"квантили 90, 75, 50, 25, 10 для столбца {column}:\\n{df[column].quantile([0.9, 0.75, 0.5, 0.25, 0.1])}\")\n",
        "        print(f\"Максимальное значение столбца {column}: {df[column].max()}\")\n",
        "        print(f\"Минимальное значение столбца {column}: {df[column].min()}\")\n",
        "        print(f\"Количество пропущенных значений для столбца {column}: {df[column].isnull().sum()}\\n\")\n",
        "\n",
        "# Считываем файл\n",
        "path = \"/content/drive/MyDrive/Инополис/Задание7/HW_car_data_simple.csv\"\n",
        "df = pd.read_csv(path)\n",
        "getStatColumnsWithNumericColumns(df)"
      ],
      "metadata": {
        "id": "3hC7eRzCOAPN",
        "colab": {
          "base_uri": "https://localhost:8080/"
        },
        "outputId": "b63330be-d2f9-441e-9313-d31bbe14ef25"
      },
      "execution_count": 53,
      "outputs": [
        {
          "output_type": "stream",
          "name": "stdout",
          "text": [
            "[==========Cтатистика для столбцов с интервальными (числовыми) переменными==========]\n",
            "Медиана столбца mpg: 23.0\n",
            "Среднее значение столбца mpg: 23.514572864321607\n",
            "квантили 90, 75, 50, 25, 10 для столбца mpg:\n",
            "0.90    34.33\n",
            "0.75    29.00\n",
            "0.50    23.00\n",
            "0.25    17.50\n",
            "0.10    14.00\n",
            "Name: mpg, dtype: float64\n",
            "Максимальное значение столбца mpg: 46.6\n",
            "Минимальное значение столбца mpg: 9.0\n",
            "Количество пропущенных значений для столбца mpg: 0\n",
            "\n",
            "Медиана столбца cylinders: 4.0\n",
            "Среднее значение столбца cylinders: 5.454773869346734\n",
            "квантили 90, 75, 50, 25, 10 для столбца cylinders:\n",
            "0.90    8.0\n",
            "0.75    8.0\n",
            "0.50    4.0\n",
            "0.25    4.0\n",
            "0.10    4.0\n",
            "Name: cylinders, dtype: float64\n",
            "Максимальное значение столбца cylinders: 8\n",
            "Минимальное значение столбца cylinders: 3\n",
            "Количество пропущенных значений для столбца cylinders: 0\n",
            "\n",
            "Медиана столбца displacement: 148.5\n",
            "Среднее значение столбца displacement: 193.42587939698493\n",
            "квантили 90, 75, 50, 25, 10 для столбца displacement:\n",
            "0.90    350.00\n",
            "0.75    262.00\n",
            "0.50    148.50\n",
            "0.25    104.25\n",
            "0.10     90.00\n",
            "Name: displacement, dtype: float64\n",
            "Максимальное значение столбца displacement: 455.0\n",
            "Минимальное значение столбца displacement: 68.0\n",
            "Количество пропущенных значений для столбца displacement: 0\n",
            "\n",
            "Медиана столбца horsepower: 93.5\n",
            "Среднее значение столбца horsepower: 104.46938775510205\n",
            "квантили 90, 75, 50, 25, 10 для столбца horsepower:\n",
            "0.90    157.7\n",
            "0.75    126.0\n",
            "0.50     93.5\n",
            "0.25     75.0\n",
            "0.10     67.0\n",
            "Name: horsepower, dtype: float64\n",
            "Максимальное значение столбца horsepower: 230.0\n",
            "Минимальное значение столбца horsepower: 46.0\n",
            "Количество пропущенных значений для столбца horsepower: 6\n",
            "\n",
            "Медиана столбца weight: 2803.5\n",
            "Среднее значение столбца weight: 2970.424623115578\n",
            "квантили 90, 75, 50, 25, 10 для столбца weight:\n",
            "0.90    4275.20\n",
            "0.75    3608.00\n",
            "0.50    2803.50\n",
            "0.25    2223.75\n",
            "0.10    1988.50\n",
            "Name: weight, dtype: float64\n",
            "Максимальное значение столбца weight: 5140\n",
            "Минимальное значение столбца weight: 1613\n",
            "Количество пропущенных значений для столбца weight: 0\n",
            "\n",
            "Медиана столбца acceleration: 15.5\n",
            "Среднее значение столбца acceleration: 15.568090452261307\n",
            "квантили 90, 75, 50, 25, 10 для столбца acceleration:\n",
            "0.90    19.000\n",
            "0.75    17.175\n",
            "0.50    15.500\n",
            "0.25    13.825\n",
            "0.10    12.000\n",
            "Name: acceleration, dtype: float64\n",
            "Максимальное значение столбца acceleration: 24.8\n",
            "Минимальное значение столбца acceleration: 8.0\n",
            "Количество пропущенных значений для столбца acceleration: 0\n",
            "\n",
            "Медиана столбца model_year: 76.0\n",
            "Среднее значение столбца model_year: 76.01005025125629\n",
            "квантили 90, 75, 50, 25, 10 для столбца model_year:\n",
            "0.90    81.0\n",
            "0.75    79.0\n",
            "0.50    76.0\n",
            "0.25    73.0\n",
            "0.10    71.0\n",
            "Name: model_year, dtype: float64\n",
            "Максимальное значение столбца model_year: 82\n",
            "Минимальное значение столбца model_year: 70\n",
            "Количество пропущенных значений для столбца model_year: 0\n",
            "\n"
          ]
        }
      ]
    },
    {
      "cell_type": "markdown",
      "source": [
        "5. Посчитайте долю японских машин.\n"
      ],
      "metadata": {
        "id": "JhhWfqdNOOd-"
      }
    },
    {
      "cell_type": "code",
      "source": [
        "# Считываем файл\n",
        "path = \"/content/drive/MyDrive/Инополис/Задание7/HW_car_data_simple.csv\"\n",
        "df = pd.read_csv(path)\n",
        "countOrigin = df[\"origin\"].value_counts(normalize=True)\n",
        "print(f\"Доля японских машин: {countOrigin['japan']}\")"
      ],
      "metadata": {
        "id": "mKBiIs2lOOd_",
        "colab": {
          "base_uri": "https://localhost:8080/"
        },
        "outputId": "22a70dd9-f2f1-408e-b9c3-d63ec75fa667"
      },
      "execution_count": 54,
      "outputs": [
        {
          "output_type": "stream",
          "name": "stdout",
          "text": [
            "Доля японских машин: 0.1984924623115578\n"
          ]
        }
      ]
    }
  ]
}